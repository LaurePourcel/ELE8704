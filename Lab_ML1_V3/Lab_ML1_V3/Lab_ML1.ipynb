{
 "cells": [
  {
   "cell_type": "markdown",
   "id": "8b54e1d6",
   "metadata": {},
   "source": [
    "# Laboratoire d'apprentissage machine 1: Manipulation des données\n",
    "\n",
    "Ce laboratoire est séparé en deux sections. \n",
    "\n",
    "La première section montre comment utiliser la librairie *pandas*. Vous n'avez pas à produire de code pour cette section. Toutefois, je vous encourage à expérimenter un peu avec le code fourni.\n",
    "\n",
    "La seconde section a pour but de nettoyer un ensemble de données (dataset) fictif. Vous aurez à effectuer le nettoyage vous même à l'aide des commentaires. Vous aurez aussi à répondre à des questions directement dans le notebook qui permettront de pousser votre réflexion. \n",
    "\n",
    "**Le notebook est à remettre sur moodle avant le 1er novembre 23h55. La section 2 doit être complétée tant au niveau des questions que du code**.\n",
    "\n",
    "Les manipulations pour le nettoyage du code comptent pour 70% du laboratoire, et les questions, pour l'autre 30%.\n",
    "\n",
    "## Modules utilisés\n",
    "\n",
    "Voici les modules que nous allons utiliser lors de ce laboratoire:"
   ]
  },
  {
   "cell_type": "code",
   "execution_count": 2,
   "id": "2889a0b4",
   "metadata": {},
   "outputs": [],
   "source": [
    "import numpy as np\n",
    "import pandas as pd"
   ]
  },
  {
   "cell_type": "markdown",
   "id": "6d19a8bb-a4a9-4744-adaf-d4a049e96736",
   "metadata": {},
   "source": [
    "## Section 1: Manipulations de base\n",
    "La librairie *pandas* permet de faciliter la manipulation des données via l'utilisation de conteneurs appelés *dataframe*. Les *dataframes* sont des tableaux indexant des valeurs selon un index et un nom de colonne. Ils offrent aussi une foule de méthodes utiles que nous allons voir tout au long du notebook. Pour plus de détails, voir la documentation de *pandas*: [pandas documentation](https://pandas.pydata.org/docs/reference/api/pandas.DataFrame.html)"
   ]
  },
  {
   "cell_type": "markdown",
   "id": "0f040aa3",
   "metadata": {},
   "source": [
    "### Création d'un dataframe\n",
    "Il existe plusieurs manières de créer un *dataframe*. Cette section vous montre quelques manières de faire."
   ]
  },
  {
   "cell_type": "code",
   "execution_count": 3,
   "id": "78e6a722-a5b9-445e-8d8e-4d52eb4feb26",
   "metadata": {},
   "outputs": [
    {
     "data": {
      "text/html": [
       "<div>\n",
       "<style scoped>\n",
       "    .dataframe tbody tr th:only-of-type {\n",
       "        vertical-align: middle;\n",
       "    }\n",
       "\n",
       "    .dataframe tbody tr th {\n",
       "        vertical-align: top;\n",
       "    }\n",
       "\n",
       "    .dataframe thead th {\n",
       "        text-align: right;\n",
       "    }\n",
       "</style>\n",
       "<table border=\"1\" class=\"dataframe\">\n",
       "  <thead>\n",
       "    <tr style=\"text-align: right;\">\n",
       "      <th></th>\n",
       "      <th>colonne1</th>\n",
       "      <th>colonne2</th>\n",
       "    </tr>\n",
       "  </thead>\n",
       "  <tbody>\n",
       "    <tr>\n",
       "      <th>0</th>\n",
       "      <td>a</td>\n",
       "      <td>c</td>\n",
       "    </tr>\n",
       "    <tr>\n",
       "      <th>1</th>\n",
       "      <td>b</td>\n",
       "      <td>d</td>\n",
       "    </tr>\n",
       "  </tbody>\n",
       "</table>\n",
       "</div>"
      ],
      "text/plain": [
       "  colonne1 colonne2\n",
       "0        a        c\n",
       "1        b        d"
      ]
     },
     "execution_count": 3,
     "metadata": {},
     "output_type": "execute_result"
    }
   ],
   "source": [
    "# À partir d'un dictionnaire\n",
    "d = {'colonne1':['a','b'], 'colonne2':['c','d']}\n",
    "df1 = pd.DataFrame(data=d)\n",
    "df1"
   ]
  },
  {
   "cell_type": "code",
   "execution_count": 4,
   "id": "bbfdc38d-6d91-40da-b134-7e9f75d8497c",
   "metadata": {},
   "outputs": [
    {
     "data": {
      "text/html": [
       "<div>\n",
       "<style scoped>\n",
       "    .dataframe tbody tr th:only-of-type {\n",
       "        vertical-align: middle;\n",
       "    }\n",
       "\n",
       "    .dataframe tbody tr th {\n",
       "        vertical-align: top;\n",
       "    }\n",
       "\n",
       "    .dataframe thead th {\n",
       "        text-align: right;\n",
       "    }\n",
       "</style>\n",
       "<table border=\"1\" class=\"dataframe\">\n",
       "  <thead>\n",
       "    <tr style=\"text-align: right;\">\n",
       "      <th></th>\n",
       "      <th>colonne1</th>\n",
       "      <th>colonne2</th>\n",
       "    </tr>\n",
       "  </thead>\n",
       "  <tbody>\n",
       "    <tr>\n",
       "      <th>0</th>\n",
       "      <td>e</td>\n",
       "      <td>f</td>\n",
       "    </tr>\n",
       "    <tr>\n",
       "      <th>1</th>\n",
       "      <td>g</td>\n",
       "      <td>h</td>\n",
       "    </tr>\n",
       "  </tbody>\n",
       "</table>\n",
       "</div>"
      ],
      "text/plain": [
       "  colonne1 colonne2\n",
       "0        e        f\n",
       "1        g        h"
      ]
     },
     "execution_count": 4,
     "metadata": {},
     "output_type": "execute_result"
    }
   ],
   "source": [
    "# À partir de \"numpy array\", un type de liste spécifique au module numpy \n",
    "# Note: Les dataframes sont basés sur les numpy array. \n",
    "# Les numpy array sont des conteneur optimisés pour les calculs.\n",
    "array = np.array([['e','f'], ['g','h']])\n",
    "my_columns = ['colonne1','colonne2']\n",
    "df2 = pd.DataFrame(data = array,\n",
    "                  columns = my_columns)\n",
    "df2"
   ]
  },
  {
   "cell_type": "code",
   "execution_count": 5,
   "id": "a829d93c-6983-4c5d-937f-0a2245f56b93",
   "metadata": {},
   "outputs": [
    {
     "data": {
      "text/html": [
       "<div>\n",
       "<style scoped>\n",
       "    .dataframe tbody tr th:only-of-type {\n",
       "        vertical-align: middle;\n",
       "    }\n",
       "\n",
       "    .dataframe tbody tr th {\n",
       "        vertical-align: top;\n",
       "    }\n",
       "\n",
       "    .dataframe thead th {\n",
       "        text-align: right;\n",
       "    }\n",
       "</style>\n",
       "<table border=\"1\" class=\"dataframe\">\n",
       "  <thead>\n",
       "    <tr style=\"text-align: right;\">\n",
       "      <th></th>\n",
       "      <th>colonne1</th>\n",
       "      <th>colonne2</th>\n",
       "    </tr>\n",
       "  </thead>\n",
       "  <tbody>\n",
       "    <tr>\n",
       "      <th>0</th>\n",
       "      <td>i</td>\n",
       "      <td>j</td>\n",
       "    </tr>\n",
       "    <tr>\n",
       "      <th>1</th>\n",
       "      <td>k</td>\n",
       "      <td>l</td>\n",
       "    </tr>\n",
       "  </tbody>\n",
       "</table>\n",
       "</div>"
      ],
      "text/plain": [
       "  colonne1 colonne2\n",
       "0        i        j\n",
       "1        k        l"
      ]
     },
     "execution_count": 5,
     "metadata": {},
     "output_type": "execute_result"
    }
   ],
   "source": [
    "# À partir d'un fichier csv\n",
    "df3 = pd.read_csv('test_dataframe.csv')\n",
    "df3"
   ]
  },
  {
   "cell_type": "markdown",
   "id": "80f64c0e-a393-42b7-b58d-9e3ff4aee266",
   "metadata": {},
   "source": [
    "### Accès aux lignes et aux colonnes"
   ]
  },
  {
   "cell_type": "code",
   "execution_count": 6,
   "id": "4a1e5d42-434f-4184-8044-70c07fa363e1",
   "metadata": {},
   "outputs": [
    {
     "name": "stdout",
     "output_type": "stream",
     "text": [
      "<class 'pandas.core.series.Series'>\n"
     ]
    },
    {
     "data": {
      "text/plain": [
       "colonne1    a\n",
       "colonne2    c\n",
       "Name: 0, dtype: object"
      ]
     },
     "execution_count": 6,
     "metadata": {},
     "output_type": "execute_result"
    }
   ],
   "source": [
    "# Sélection d'une ligne\n",
    "print(type(df1.loc[0]))\n",
    "df1.loc[0]"
   ]
  },
  {
   "cell_type": "code",
   "execution_count": 7,
   "id": "57e6449f-22a0-430a-bd9f-a1b1b25fde76",
   "metadata": {},
   "outputs": [
    {
     "data": {
      "text/html": [
       "<div>\n",
       "<style scoped>\n",
       "    .dataframe tbody tr th:only-of-type {\n",
       "        vertical-align: middle;\n",
       "    }\n",
       "\n",
       "    .dataframe tbody tr th {\n",
       "        vertical-align: top;\n",
       "    }\n",
       "\n",
       "    .dataframe thead th {\n",
       "        text-align: right;\n",
       "    }\n",
       "</style>\n",
       "<table border=\"1\" class=\"dataframe\">\n",
       "  <thead>\n",
       "    <tr style=\"text-align: right;\">\n",
       "      <th></th>\n",
       "      <th>colonne1</th>\n",
       "      <th>colonne2</th>\n",
       "    </tr>\n",
       "  </thead>\n",
       "  <tbody>\n",
       "    <tr>\n",
       "      <th>1</th>\n",
       "      <td>b</td>\n",
       "      <td>d</td>\n",
       "    </tr>\n",
       "  </tbody>\n",
       "</table>\n",
       "</div>"
      ],
      "text/plain": [
       "  colonne1 colonne2\n",
       "1        b        d"
      ]
     },
     "execution_count": 7,
     "metadata": {},
     "output_type": "execute_result"
    }
   ],
   "source": [
    "# Autre méthode de sélection pour une ligne\n",
    "df1.loc[df1['colonne1']  == 'b']"
   ]
  },
  {
   "cell_type": "code",
   "execution_count": 8,
   "id": "3e7e6020-6ba2-48d4-8adc-a358aa246ed7",
   "metadata": {},
   "outputs": [
    {
     "name": "stdout",
     "output_type": "stream",
     "text": [
      "<class 'pandas.core.series.Series'>\n",
      "  colonne1 colonne2\n",
      "0        a        c\n",
      "1        b        d\n",
      "0    a\n",
      "1    b\n",
      "Name: colonne1, dtype: object\n"
     ]
    }
   ],
   "source": [
    "# Sélection d'une colonne\n",
    "print(type(df1['colonne1']))\n",
    "print(df1)\n",
    "print(df1['colonne1'])"
   ]
  },
  {
   "cell_type": "markdown",
   "id": "2652c7ca-30d6-40df-9585-7e55cfb8dd30",
   "metadata": {},
   "source": [
    "Les series sont des conteneurs similaires aux *dataframes*, mais en une seule dimension. Cela les distinguent des *dataframes* en 2 dimensions."
   ]
  },
  {
   "cell_type": "markdown",
   "id": "ff19fea1-1bb2-4405-b06c-e51e5acba0f8",
   "metadata": {},
   "source": [
    "Afin de faciliter l'accès aux données, l'index par défaut du *dataframe* peut être remplacé."
   ]
  },
  {
   "cell_type": "code",
   "execution_count": 9,
   "id": "292ec68b-0457-4118-b84f-92c3af26ed4b",
   "metadata": {},
   "outputs": [
    {
     "name": "stdout",
     "output_type": "stream",
     "text": [
      "         colonne1 colonne2\n",
      "colonne1                  \n",
      "a               a        c\n",
      "b               b        d\n"
     ]
    },
    {
     "data": {
      "text/html": [
       "<div>\n",
       "<style scoped>\n",
       "    .dataframe tbody tr th:only-of-type {\n",
       "        vertical-align: middle;\n",
       "    }\n",
       "\n",
       "    .dataframe tbody tr th {\n",
       "        vertical-align: top;\n",
       "    }\n",
       "\n",
       "    .dataframe thead th {\n",
       "        text-align: right;\n",
       "    }\n",
       "</style>\n",
       "<table border=\"1\" class=\"dataframe\">\n",
       "  <thead>\n",
       "    <tr style=\"text-align: right;\">\n",
       "      <th></th>\n",
       "      <th>colonne1</th>\n",
       "      <th>colonne2</th>\n",
       "    </tr>\n",
       "  </thead>\n",
       "  <tbody>\n",
       "    <tr>\n",
       "      <th>ligne1</th>\n",
       "      <td>a</td>\n",
       "      <td>c</td>\n",
       "    </tr>\n",
       "    <tr>\n",
       "      <th>ligne2</th>\n",
       "      <td>b</td>\n",
       "      <td>d</td>\n",
       "    </tr>\n",
       "  </tbody>\n",
       "</table>\n",
       "</div>"
      ],
      "text/plain": [
       "       colonne1 colonne2\n",
       "ligne1        a        c\n",
       "ligne2        b        d"
      ]
     },
     "execution_count": 9,
     "metadata": {},
     "output_type": "execute_result"
    }
   ],
   "source": [
    "# Changer index:\n",
    "\n",
    "# En utilisant une colonne\n",
    "print(df1.set_index('colonne1', drop = False))\n",
    "\n",
    "# En utilisant une liste d'index\n",
    "df1.set_index(pd.Index(['ligne1','ligne2']))"
   ]
  },
  {
   "cell_type": "markdown",
   "id": "5b995e40-96fb-408f-809e-607b2604ca5e",
   "metadata": {},
   "source": [
    "<div class=\"alert alert-block alert-warning\">\n",
    "    \n",
    "**ATTENTION**: La méthode *set_index*, comme la plupart des méthodes modifiant les *datasets*, retourne une copie du dataset et ne modifie pas ce dernier. \n",
    "Pour modifier les *datasets*, deux options s'offrent à vous:"
   ]
  },
  {
   "cell_type": "code",
   "execution_count": 10,
   "id": "6561b637-5fe2-46e5-baa6-cae4f65e0c1c",
   "metadata": {},
   "outputs": [
    {
     "data": {
      "text/html": [
       "<div>\n",
       "<style scoped>\n",
       "    .dataframe tbody tr th:only-of-type {\n",
       "        vertical-align: middle;\n",
       "    }\n",
       "\n",
       "    .dataframe tbody tr th {\n",
       "        vertical-align: top;\n",
       "    }\n",
       "\n",
       "    .dataframe thead th {\n",
       "        text-align: right;\n",
       "    }\n",
       "</style>\n",
       "<table border=\"1\" class=\"dataframe\">\n",
       "  <thead>\n",
       "    <tr style=\"text-align: right;\">\n",
       "      <th></th>\n",
       "      <th>colonne1</th>\n",
       "      <th>colonne2</th>\n",
       "    </tr>\n",
       "  </thead>\n",
       "  <tbody>\n",
       "    <tr>\n",
       "      <th>ligne1</th>\n",
       "      <td>a</td>\n",
       "      <td>c</td>\n",
       "    </tr>\n",
       "    <tr>\n",
       "      <th>ligne2</th>\n",
       "      <td>b</td>\n",
       "      <td>d</td>\n",
       "    </tr>\n",
       "  </tbody>\n",
       "</table>\n",
       "</div>"
      ],
      "text/plain": [
       "       colonne1 colonne2\n",
       "ligne1        a        c\n",
       "ligne2        b        d"
      ]
     },
     "execution_count": 10,
     "metadata": {},
     "output_type": "execute_result"
    }
   ],
   "source": [
    "# Réécrire (Overwrite) la variable\n",
    "df1 = df1.set_index(pd.Index(['ligne1','ligne2']))\n",
    "\n",
    "# Utiliser le paramètre inplace de la méthode utilisée\n",
    "df1.set_index(pd.Index(['ligne1','ligne2']), inplace = True)\n",
    "df1"
   ]
  },
  {
   "cell_type": "markdown",
   "id": "35378f9a-18cf-4db3-bc15-cb7545672914",
   "metadata": {},
   "source": [
    "### Accès aux éléments\n",
    "Il peut être intéressant d'aller chercher une valeur spécifique d'une ligne et une colonne. Toutefois, il vaut mieux privilégier les manipulations au niveau du *dataframe* au complet ou au niveau des séries plutôt que sur les élément individuels."
   ]
  },
  {
   "cell_type": "code",
   "execution_count": 11,
   "id": "cf987a84-036b-4131-b4ba-81e532142453",
   "metadata": {},
   "outputs": [
    {
     "name": "stdout",
     "output_type": "stream",
     "text": [
      "ligne1    a\n",
      "ligne2    b\n",
      "Name: colonne1, dtype: object\n"
     ]
    },
    {
     "data": {
      "text/plain": [
       "'a'"
      ]
     },
     "execution_count": 11,
     "metadata": {},
     "output_type": "execute_result"
    }
   ],
   "source": [
    "# Sélection d'un élément d'une série. Identique à la manière d'accéder à une colonne d'un dataframe.\n",
    "serie = df1['colonne1']\n",
    "print(serie)\n",
    "serie['ligne1']"
   ]
  },
  {
   "cell_type": "markdown",
   "id": "e3cfe886-e7a6-4eaa-bd35-702f55dd4947",
   "metadata": {},
   "source": [
    "### Retrait/Ajout de colonnes"
   ]
  },
  {
   "cell_type": "code",
   "execution_count": 12,
   "id": "488351fc-1994-42ca-8a74-a0787eaf4f47",
   "metadata": {},
   "outputs": [
    {
     "data": {
      "text/html": [
       "<div>\n",
       "<style scoped>\n",
       "    .dataframe tbody tr th:only-of-type {\n",
       "        vertical-align: middle;\n",
       "    }\n",
       "\n",
       "    .dataframe tbody tr th {\n",
       "        vertical-align: top;\n",
       "    }\n",
       "\n",
       "    .dataframe thead th {\n",
       "        text-align: right;\n",
       "    }\n",
       "</style>\n",
       "<table border=\"1\" class=\"dataframe\">\n",
       "  <thead>\n",
       "    <tr style=\"text-align: right;\">\n",
       "      <th></th>\n",
       "      <th>colonne2</th>\n",
       "    </tr>\n",
       "  </thead>\n",
       "  <tbody>\n",
       "    <tr>\n",
       "      <th>ligne1</th>\n",
       "      <td>c</td>\n",
       "    </tr>\n",
       "    <tr>\n",
       "      <th>ligne2</th>\n",
       "      <td>d</td>\n",
       "    </tr>\n",
       "  </tbody>\n",
       "</table>\n",
       "</div>"
      ],
      "text/plain": [
       "       colonne2\n",
       "ligne1        c\n",
       "ligne2        d"
      ]
     },
     "execution_count": 12,
     "metadata": {},
     "output_type": "execute_result"
    }
   ],
   "source": [
    "# Retrait\n",
    "df1.drop(['colonne1'], axis='columns')"
   ]
  },
  {
   "cell_type": "code",
   "execution_count": 13,
   "id": "ddcb95c1-f595-4c70-8383-f0464abbb084",
   "metadata": {},
   "outputs": [
    {
     "data": {
      "text/html": [
       "<div>\n",
       "<style scoped>\n",
       "    .dataframe tbody tr th:only-of-type {\n",
       "        vertical-align: middle;\n",
       "    }\n",
       "\n",
       "    .dataframe tbody tr th {\n",
       "        vertical-align: top;\n",
       "    }\n",
       "\n",
       "    .dataframe thead th {\n",
       "        text-align: right;\n",
       "    }\n",
       "</style>\n",
       "<table border=\"1\" class=\"dataframe\">\n",
       "  <thead>\n",
       "    <tr style=\"text-align: right;\">\n",
       "      <th></th>\n",
       "      <th>colonne1</th>\n",
       "      <th>colonne2</th>\n",
       "      <th>colonne3</th>\n",
       "    </tr>\n",
       "  </thead>\n",
       "  <tbody>\n",
       "    <tr>\n",
       "      <th>ligne1</th>\n",
       "      <td>a</td>\n",
       "      <td>c</td>\n",
       "      <td>e</td>\n",
       "    </tr>\n",
       "    <tr>\n",
       "      <th>ligne2</th>\n",
       "      <td>b</td>\n",
       "      <td>d</td>\n",
       "      <td>g</td>\n",
       "    </tr>\n",
       "  </tbody>\n",
       "</table>\n",
       "</div>"
      ],
      "text/plain": [
       "       colonne1 colonne2 colonne3\n",
       "ligne1        a        c        e\n",
       "ligne2        b        d        g"
      ]
     },
     "execution_count": 13,
     "metadata": {},
     "output_type": "execute_result"
    }
   ],
   "source": [
    "# Ajout\n",
    "# On va ajouter la première colonne de df2 au dataframe df1\n",
    "# 1) S'assurer que les indice concorde\n",
    "df2.set_index(pd.Index(['ligne1','ligne2']), inplace = True)\n",
    "# 2) On fait une assignation\n",
    "df1['colonne3'] = df2['colonne1']\n",
    "df1"
   ]
  },
  {
   "cell_type": "code",
   "execution_count": 14,
   "id": "23ec0bfb-4789-4400-b137-aae3d8e7d28e",
   "metadata": {},
   "outputs": [
    {
     "name": "stdout",
     "output_type": "stream",
     "text": [
      "       colonne1 colonne2 colonne3 colonne4\n",
      "ligne1        a        c        e        f\n",
      "ligne2        b        d        g        h\n"
     ]
    },
    {
     "data": {
      "text/html": [
       "<div>\n",
       "<style scoped>\n",
       "    .dataframe tbody tr th:only-of-type {\n",
       "        vertical-align: middle;\n",
       "    }\n",
       "\n",
       "    .dataframe tbody tr th {\n",
       "        vertical-align: top;\n",
       "    }\n",
       "\n",
       "    .dataframe thead th {\n",
       "        text-align: right;\n",
       "    }\n",
       "</style>\n",
       "<table border=\"1\" class=\"dataframe\">\n",
       "  <thead>\n",
       "    <tr style=\"text-align: right;\">\n",
       "      <th></th>\n",
       "      <th>colonne1</th>\n",
       "      <th>colonne2</th>\n",
       "      <th>colonne3</th>\n",
       "      <th>colonne1_2</th>\n",
       "      <th>colonne2_2</th>\n",
       "    </tr>\n",
       "  </thead>\n",
       "  <tbody>\n",
       "    <tr>\n",
       "      <th>ligne1</th>\n",
       "      <td>a</td>\n",
       "      <td>c</td>\n",
       "      <td>e</td>\n",
       "      <td>e</td>\n",
       "      <td>f</td>\n",
       "    </tr>\n",
       "    <tr>\n",
       "      <th>ligne2</th>\n",
       "      <td>b</td>\n",
       "      <td>d</td>\n",
       "      <td>g</td>\n",
       "      <td>g</td>\n",
       "      <td>h</td>\n",
       "    </tr>\n",
       "  </tbody>\n",
       "</table>\n",
       "</div>"
      ],
      "text/plain": [
       "       colonne1 colonne2 colonne3 colonne1_2 colonne2_2\n",
       "ligne1        a        c        e          e          f\n",
       "ligne2        b        d        g          g          h"
      ]
     },
     "execution_count": 14,
     "metadata": {},
     "output_type": "execute_result"
    }
   ],
   "source": [
    "# Pour ajouter de multiples colonnes, assign peut être utilisé\n",
    "print(df1.assign(colonne3 = df2['colonne1'], colonne4 = df2['colonne2']))\n",
    "\n",
    "# Join peut aussi être utilisé pour ajouter toutes les colonnes\n",
    "df1.join(df2, rsuffix= '_2')"
   ]
  },
  {
   "cell_type": "markdown",
   "id": "15f58e40-9ffb-4d93-8541-9ab7d5127d69",
   "metadata": {},
   "source": [
    "### Retrait/Ajout de lignes"
   ]
  },
  {
   "cell_type": "code",
   "execution_count": 15,
   "id": "8aa48041-2261-4af2-9d15-657b57036128",
   "metadata": {},
   "outputs": [
    {
     "data": {
      "text/html": [
       "<div>\n",
       "<style scoped>\n",
       "    .dataframe tbody tr th:only-of-type {\n",
       "        vertical-align: middle;\n",
       "    }\n",
       "\n",
       "    .dataframe tbody tr th {\n",
       "        vertical-align: top;\n",
       "    }\n",
       "\n",
       "    .dataframe thead th {\n",
       "        text-align: right;\n",
       "    }\n",
       "</style>\n",
       "<table border=\"1\" class=\"dataframe\">\n",
       "  <thead>\n",
       "    <tr style=\"text-align: right;\">\n",
       "      <th></th>\n",
       "      <th>colonne1</th>\n",
       "      <th>colonne2</th>\n",
       "      <th>colonne3</th>\n",
       "    </tr>\n",
       "  </thead>\n",
       "  <tbody>\n",
       "    <tr>\n",
       "      <th>ligne2</th>\n",
       "      <td>b</td>\n",
       "      <td>d</td>\n",
       "      <td>g</td>\n",
       "    </tr>\n",
       "  </tbody>\n",
       "</table>\n",
       "</div>"
      ],
      "text/plain": [
       "       colonne1 colonne2 colonne3\n",
       "ligne2        b        d        g"
      ]
     },
     "execution_count": 15,
     "metadata": {},
     "output_type": "execute_result"
    }
   ],
   "source": [
    "# Retrait\n",
    "df1.drop('ligne1') # la méthode drop retire les lignes par défaut"
   ]
  },
  {
   "cell_type": "markdown",
   "id": "d1975fda",
   "metadata": {},
   "source": [
    "Une fonctionnalité intéressante des *dataframes* est la possibilité de créer une série de booléens à l'aide d'une expression booléenne que l'on applique sur le *dataframe*. Par la suite, on peut utiliser cette série pour sélectionner seulement les éléments qui sont vrais. Voici un petit exemple pour clarifier le tout:"
   ]
  },
  {
   "cell_type": "code",
   "execution_count": 16,
   "id": "e541607b-e2a0-4ab5-a44a-b4aa31312d46",
   "metadata": {},
   "outputs": [
    {
     "name": "stdout",
     "output_type": "stream",
     "text": [
      "ligne1     True\n",
      "ligne2    False\n",
      "Name: colonne1, dtype: bool\n"
     ]
    },
    {
     "data": {
      "text/html": [
       "<div>\n",
       "<style scoped>\n",
       "    .dataframe tbody tr th:only-of-type {\n",
       "        vertical-align: middle;\n",
       "    }\n",
       "\n",
       "    .dataframe tbody tr th {\n",
       "        vertical-align: top;\n",
       "    }\n",
       "\n",
       "    .dataframe thead th {\n",
       "        text-align: right;\n",
       "    }\n",
       "</style>\n",
       "<table border=\"1\" class=\"dataframe\">\n",
       "  <thead>\n",
       "    <tr style=\"text-align: right;\">\n",
       "      <th></th>\n",
       "      <th>colonne1</th>\n",
       "      <th>colonne2</th>\n",
       "      <th>colonne3</th>\n",
       "    </tr>\n",
       "  </thead>\n",
       "  <tbody>\n",
       "    <tr>\n",
       "      <th>ligne1</th>\n",
       "      <td>a</td>\n",
       "      <td>c</td>\n",
       "      <td>e</td>\n",
       "    </tr>\n",
       "  </tbody>\n",
       "</table>\n",
       "</div>"
      ],
      "text/plain": [
       "       colonne1 colonne2 colonne3\n",
       "ligne1        a        c        e"
      ]
     },
     "execution_count": 16,
     "metadata": {},
     "output_type": "execute_result"
    }
   ],
   "source": [
    "# Liste de bool\n",
    "serie_conditionnelle = df1['colonne1'] == 'a'\n",
    "print(serie_conditionnelle)\n",
    "df1[serie_conditionnelle]"
   ]
  },
  {
   "cell_type": "markdown",
   "id": "7ddbdd8f-0b85-4f23-8aeb-e674434a8d52",
   "metadata": {},
   "source": [
    "En pratique, on n'utilise pas de varible intermédiaire. Il est aussi possible de combiner plusieurs expressions booléennes avec les symboles | et & ."
   ]
  },
  {
   "cell_type": "code",
   "execution_count": 17,
   "id": "b85502ff-2061-4397-8568-31b8d6f9e3c1",
   "metadata": {},
   "outputs": [
    {
     "name": "stderr",
     "output_type": "stream",
     "text": [
      "C:\\Users\\loulo\\AppData\\Local\\Temp\\ipykernel_1464\\680622268.py:4: FutureWarning: The frame.append method is deprecated and will be removed from pandas in a future version. Use pandas.concat instead.\n",
      "  df1.append(df2)\n"
     ]
    },
    {
     "data": {
      "text/html": [
       "<div>\n",
       "<style scoped>\n",
       "    .dataframe tbody tr th:only-of-type {\n",
       "        vertical-align: middle;\n",
       "    }\n",
       "\n",
       "    .dataframe tbody tr th {\n",
       "        vertical-align: top;\n",
       "    }\n",
       "\n",
       "    .dataframe thead th {\n",
       "        text-align: right;\n",
       "    }\n",
       "</style>\n",
       "<table border=\"1\" class=\"dataframe\">\n",
       "  <thead>\n",
       "    <tr style=\"text-align: right;\">\n",
       "      <th></th>\n",
       "      <th>colonne1</th>\n",
       "      <th>colonne2</th>\n",
       "      <th>colonne1_2</th>\n",
       "      <th>colonne2_2</th>\n",
       "    </tr>\n",
       "  </thead>\n",
       "  <tbody>\n",
       "    <tr>\n",
       "      <th>ligne1</th>\n",
       "      <td>a</td>\n",
       "      <td>c</td>\n",
       "      <td>e</td>\n",
       "      <td>f</td>\n",
       "    </tr>\n",
       "    <tr>\n",
       "      <th>ligne2</th>\n",
       "      <td>b</td>\n",
       "      <td>d</td>\n",
       "      <td>g</td>\n",
       "      <td>h</td>\n",
       "    </tr>\n",
       "    <tr>\n",
       "      <th>ligne1</th>\n",
       "      <td>e</td>\n",
       "      <td>f</td>\n",
       "      <td>NaN</td>\n",
       "      <td>NaN</td>\n",
       "    </tr>\n",
       "    <tr>\n",
       "      <th>ligne2</th>\n",
       "      <td>g</td>\n",
       "      <td>h</td>\n",
       "      <td>NaN</td>\n",
       "      <td>NaN</td>\n",
       "    </tr>\n",
       "  </tbody>\n",
       "</table>\n",
       "</div>"
      ],
      "text/plain": [
       "       colonne1 colonne2 colonne1_2 colonne2_2\n",
       "ligne1        a        c          e          f\n",
       "ligne2        b        d          g          h\n",
       "ligne1        e        f        NaN        NaN\n",
       "ligne2        g        h        NaN        NaN"
      ]
     },
     "execution_count": 17,
     "metadata": {},
     "output_type": "execute_result"
    }
   ],
   "source": [
    "# Ajout de multiple ligne\n",
    "df1 = df1.join(df2, rsuffix= '_2')\n",
    "df1.drop('colonne3', axis='columns', inplace = True)\n",
    "df1.append(df2)"
   ]
  },
  {
   "cell_type": "markdown",
   "id": "3ac8ecc2-448d-4464-9f8e-474293c15750",
   "metadata": {},
   "source": [
    "**Attention**: Dans ce cas, l'index n'est pas unique. Lors de l'ajout de ligne, toujours s'assurer que l'identifiant est unique. Le paramètre *ignore_index* peut être utilisé à cet effet."
   ]
  },
  {
   "cell_type": "markdown",
   "id": "8b06f31c-6de4-456d-bb9f-9018fed29f31",
   "metadata": {},
   "source": [
    "### Informations sur le *dataframe*"
   ]
  },
  {
   "cell_type": "code",
   "execution_count": 18,
   "id": "3cacbb01-6e1a-44b9-978f-0774351fc149",
   "metadata": {},
   "outputs": [
    {
     "name": "stdout",
     "output_type": "stream",
     "text": [
      "Il y a 2 lignes et 4 colonnes dans df1\n"
     ]
    }
   ],
   "source": [
    "# shape est un attribut permet d'obtenir les dimensions du dataframe\n",
    "print(f'Il y a {df1.shape[0]} lignes et {df1.shape[1]} colonnes dans df1') "
   ]
  },
  {
   "cell_type": "code",
   "execution_count": 19,
   "id": "87c8235e-e33d-4bb6-b49a-10c5d44eac97",
   "metadata": {},
   "outputs": [
    {
     "data": {
      "text/plain": [
       "Index(['ligne1', 'ligne2'], dtype='object')"
      ]
     },
     "execution_count": 19,
     "metadata": {},
     "output_type": "execute_result"
    }
   ],
   "source": [
    "# Liste des index\n",
    "df1.index"
   ]
  },
  {
   "cell_type": "code",
   "execution_count": 20,
   "id": "5eaac80e-0403-4e10-b6be-b5a5d41ab2a0",
   "metadata": {},
   "outputs": [
    {
     "data": {
      "text/html": [
       "<div>\n",
       "<style scoped>\n",
       "    .dataframe tbody tr th:only-of-type {\n",
       "        vertical-align: middle;\n",
       "    }\n",
       "\n",
       "    .dataframe tbody tr th {\n",
       "        vertical-align: top;\n",
       "    }\n",
       "\n",
       "    .dataframe thead th {\n",
       "        text-align: right;\n",
       "    }\n",
       "</style>\n",
       "<table border=\"1\" class=\"dataframe\">\n",
       "  <thead>\n",
       "    <tr style=\"text-align: right;\">\n",
       "      <th></th>\n",
       "      <th>colonne1</th>\n",
       "      <th>colonne2</th>\n",
       "      <th>colonne1_2</th>\n",
       "      <th>colonne2_2</th>\n",
       "    </tr>\n",
       "  </thead>\n",
       "  <tbody>\n",
       "    <tr>\n",
       "      <th>ligne1</th>\n",
       "      <td>a</td>\n",
       "      <td>c</td>\n",
       "      <td>e</td>\n",
       "      <td>f</td>\n",
       "    </tr>\n",
       "    <tr>\n",
       "      <th>ligne2</th>\n",
       "      <td>b</td>\n",
       "      <td>d</td>\n",
       "      <td>g</td>\n",
       "      <td>h</td>\n",
       "    </tr>\n",
       "  </tbody>\n",
       "</table>\n",
       "</div>"
      ],
      "text/plain": [
       "       colonne1 colonne2 colonne1_2 colonne2_2\n",
       "ligne1        a        c          e          f\n",
       "ligne2        b        d          g          h"
      ]
     },
     "execution_count": 20,
     "metadata": {},
     "output_type": "execute_result"
    }
   ],
   "source": [
    "# Afficher juste les premières lignes\n",
    "df1.head()"
   ]
  },
  {
   "cell_type": "code",
   "execution_count": 21,
   "id": "cdd19eff-3598-4f41-8a58-4a870f6bb5fb",
   "metadata": {},
   "outputs": [
    {
     "data": {
      "text/plain": [
       "a    1\n",
       "b    1\n",
       "Name: colonne1, dtype: int64"
      ]
     },
     "execution_count": 21,
     "metadata": {},
     "output_type": "execute_result"
    }
   ],
   "source": [
    "# Monter le nombre de valeurs différentes dans une colonne\n",
    "df1['colonne1'].value_counts()"
   ]
  },
  {
   "cell_type": "markdown",
   "id": "cf7d74b1-8c92-42e1-bc2b-5b3d934045e4",
   "metadata": {},
   "source": [
    "## Section 2: Nettoyage des données\n",
    "\n",
    "Trois *datasets* vous sont fournis. Ces *datasets* fournissent de l'information sur des paquets hypothétiques. \n",
    "\n",
    "L'objectif de cette section est de rassembler l'information contenue dans ces trois *datasets* en un *dataset* et de nettoyer les données. Afin de faire le regroupement entre les différents *dataset*, la colonne 'ID' peut être utilisé. Les trois *datasets* sont les suivants:\n",
    "\n",
    "* dataset_test_1-1.csv: Identifie les paquets appartenant à l'application 1\n",
    "* dataset_test_1-2.csv: Identifie les paquets appartenant à l'application 2\n",
    "* dataset_test_2.csv: Identifie des informations supplémemtaires pour chaque paquet"
   ]
  },
  {
   "cell_type": "markdown",
   "id": "3ef06ed2-185b-41b4-8d09-6f06edf3955a",
   "metadata": {},
   "source": [
    "### Importation des datasets"
   ]
  },
  {
   "cell_type": "code",
   "execution_count": 22,
   "id": "39a0057a-0d7c-4254-91d6-6c3ffdb8b9de",
   "metadata": {},
   "outputs": [
    {
     "name": "stdout",
     "output_type": "stream",
     "text": [
      "     Packet length Response      Note\n",
      "ID                                   \n",
      "0            674.0     ACK2  No notes\n",
      "1            176.0     ACK2  No notes\n",
      "2            673.0     ACK1  No notes\n",
      "3            720.0     ACK1  No notes\n",
      "4            955.0      NaN  No notes\n",
      "..             ...      ...       ...\n",
      "995          674.0     ACK2  No notes\n",
      "996          693.0     ACK2  No notes\n",
      "997          353.0     ACK1  No notes\n",
      "998          328.0     ACK1  No notes\n",
      "999          370.0     ACK2  No notes\n",
      "\n",
      "[1000 rows x 3 columns]\n"
     ]
    }
   ],
   "source": [
    "# Importer les trois datasets dans 3 dataframes différents et mettre \"ID\" comme index\n",
    "df_1 = pd.read_csv('dataset_test_1-1.csv')\n",
    "df_1 = df_1.set_index(df_1['ID'])\n",
    "df_1.drop('ID', axis='columns', inplace = True )\n",
    "#print(df_2)\n",
    "\n",
    "#df_3 = pd.read_csv('dataset_test_1-2.csv')\n",
    "#df_3 = df_3.set_index(df_3['ID'])\n",
    "#df_4= df_3['Application']\n",
    "#print(df_4)\n",
    "\n",
    "## attention à créer des df et pas des series\n",
    "\n",
    "df_3 = pd.read_csv('dataset_test_1-2.csv')\n",
    "df_3 = df_3.set_index(df_3['ID'])\n",
    "df_3.drop('ID', axis='columns', inplace = True )\n",
    "\n",
    "df_5 = pd.read_csv('dataset_test_2.csv')\n",
    "df_5 = df_5.set_index(df_5['ID'] )\n",
    "df_5.drop('ID', axis='columns', inplace = True )\n",
    "print(df_5)"
   ]
  },
  {
   "cell_type": "markdown",
   "id": "051fff42-cb05-480f-8aa1-e15621bbef6c",
   "metadata": {},
   "source": [
    "### Fusion des datasets"
   ]
  },
  {
   "cell_type": "code",
   "execution_count": 23,
   "id": "83fdc491-9cc5-4467-8b62-26ae6732b161",
   "metadata": {},
   "outputs": [
    {
     "name": "stderr",
     "output_type": "stream",
     "text": [
      "C:\\Users\\loulo\\AppData\\Local\\Temp\\ipykernel_1464\\2944644703.py:2: FutureWarning: The frame.append method is deprecated and will be removed from pandas in a future version. Use pandas.concat instead.\n",
      "  df_7 = df_1.append(df_3)\n"
     ]
    }
   ],
   "source": [
    "# Fusionner les datasets (n'oubliez pas append et join!)\n",
    "df_7 = df_1.append(df_3)\n",
    "\n",
    "df_final = df_7.join(df_5)\n"
   ]
  },
  {
   "cell_type": "markdown",
   "id": "cb1a99fe-e43b-4db7-844d-f50ff40c870e",
   "metadata": {},
   "source": [
    "### Question 1\n",
    "Dans le cas où l'identifiant n'est pas unique, aurrait-il été possible de fusionner les datasets? Sinon, pourquoi? Si oui, comment?\n",
    "\n",
    "Oui, le même code fonctionne avec un identifiant non unique."
   ]
  },
  {
   "cell_type": "code",
   "execution_count": 24,
   "id": "9e086ae7",
   "metadata": {},
   "outputs": [
    {
     "name": "stderr",
     "output_type": "stream",
     "text": [
      "C:\\Users\\loulo\\AppData\\Local\\Temp\\ipykernel_1464\\2420843229.py:6: FutureWarning: The frame.append method is deprecated and will be removed from pandas in a future version. Use pandas.concat instead.\n",
      "  df_7 = df_1.append(df_3)\n"
     ]
    }
   ],
   "source": [
    "## avec id = 004 remplacé par id = 005 dans C:\\Users\\loulo\\OneDrive\\Bureau\\cours\\ELE\\Lab_ML1_V3\\Lab_ML1_V3\\dataset_test_1-1.csv\n",
    "df_1 = pd.read_csv('dataset_test_1-1_id_pas_unique.csv')\n",
    "df_1 = df_1.set_index(df_1['ID'])\n",
    "df_1.drop('ID', axis='columns', inplace = True )\n",
    "\n",
    "df_7 = df_1.append(df_3)\n",
    "\n",
    "df_final = df_7.join(df_5)\n",
    "\n",
    "df_final.to_csv('question_1.csv')"
   ]
  },
  {
   "cell_type": "markdown",
   "id": "789880dc-c90c-4306-b8d8-e92cd2aafe4e",
   "metadata": {},
   "source": [
    "### Gestion des données manquantes\n",
    "\n",
    "Lorsqu'il manque des valeurs dans le *dataframe* (il y a des *NaN*), plusieurs options s'offrent à nous:\n",
    "\n",
    "* Retirer la colonne: Si beaucoup de valeurs sont manquantes dans une colonne, il est possible de la retirer entièrement. \n",
    "* Retirer les lignes: Si seulement quelques lignes ont des valeurs manquantes, il est possible de les retirer.\n",
    "* Mettre une valeur par défaut: Il peut être interessant de créer une nouvelle catégorie regroupant les variables manquantes pour les variables catégoriques. Pour ce qui est des variables numériques, dépendemment du contexte, une valeur peut aussi être déterminée.\n",
    "\n",
    "Dans les données fournies, il manque des entrées dans la colonnes 'Response'. Nous allons remplacer les NaN par un string 'NO RESPONSE', supposant qu'un *NaN* signifie qu'il n'y a pas eu de réponse.\n",
    "\n",
    "**Note**: Attention à la méthode *dropna*, qui enlève les colonnes ou les lignes qui manquent des valeurs. Toujours vérifier le nombre de valeurs retirées. L'information est précieuse, nous voulons donc minimiser l'information mise de côté durant le nettoyage."
   ]
  },
  {
   "cell_type": "code",
   "execution_count": 25,
   "id": "5753c7f5-f13d-4fb9-9480-7e0b63129d32",
   "metadata": {},
   "outputs": [],
   "source": [
    "# Remplacer les NaN dans Response (fillna ou replace peuvent être utilisé)\n",
    "df_final.fillna(value='NO RESPONSE', inplace=True)\n"
   ]
  },
  {
   "cell_type": "markdown",
   "id": "a054520b-14f5-4fe8-bd05-d2e7c8d107bf",
   "metadata": {},
   "source": [
    "### Question 2\n",
    "Lors de la manipulation précédente, nous avons décidé de regrouper tous les *NaN* dans une seule catégorie en supposant qu'un *NaN* signifiait qu'il n'y a pas eu de réponse. Selon vous, quels auraient été les avantages et les inconvénients de retirer les lignes contenant des NaN au lieu de remplacer les valeurs?\n",
    "\n",
    "Avantage de retirer les lignes : moins de catégories ensuite pour la classifiation \n",
    "Désavantage : On perd des données pour pouvoir entrainer plus efficacement notre modèle de Machine learning "
   ]
  },
  {
   "cell_type": "markdown",
   "id": "0f80c8a3-3c1e-43d1-adef-edad90d6477b",
   "metadata": {},
   "source": [
    "### Gestion des types"
   ]
  },
  {
   "cell_type": "code",
   "execution_count": 26,
   "id": "d8ee1728-38d3-4078-a383-5b4a93d7c763",
   "metadata": {},
   "outputs": [
    {
     "data": {
      "text/plain": [
       "ID\n",
       "0      674\n",
       "1      176\n",
       "2      673\n",
       "3      720\n",
       "3      720\n",
       "      ... \n",
       "995    674\n",
       "996    693\n",
       "997    353\n",
       "998    328\n",
       "999    370\n",
       "Name: Packet length, Length: 1000, dtype: int64"
      ]
     },
     "execution_count": 26,
     "metadata": {},
     "output_type": "execute_result"
    }
   ],
   "source": [
    "# Changer le type de 'Packet length' de float à int (apply peut être utilisé)\n",
    "df_final.head()\n",
    "df_final['Packet length'].apply(int)\n"
   ]
  },
  {
   "cell_type": "code",
   "execution_count": 27,
   "id": "f495ea34-0ff4-4aaf-b9f8-6dc24c4632ca",
   "metadata": {},
   "outputs": [
    {
     "name": "stdout",
     "output_type": "stream",
     "text": [
      "APP2    502\n",
      "APP1    498\n",
      "Name: Application, dtype: int64\n"
     ]
    }
   ],
   "source": [
    "# S'assurer que le format des variables catégoriques est cohérent (avec la méthode value_counts). \n",
    "# Rappel: Il y a seulement 2 applications!\n",
    "\n",
    "# Uniformiser le format (avec apply)\n",
    "# Par uniformiser, on entend faire en sorte que le string décrivant une catégorie soit le même pour tous les éléments d'une catégorie\n",
    "# Indice: Faire attention aux majuscules!\n",
    "df_final['Application'].replace(to_replace='app1', value='APP1', inplace=True)\n",
    "df_final['Application'].replace(to_replace='app2', value='APP2', inplace=True)\n",
    "\n",
    "# Vérifier les modifications avec value_counts\n",
    "print(df_final['Application'].value_counts())"
   ]
  },
  {
   "cell_type": "code",
   "execution_count": 28,
   "id": "c89df8ff-9e99-499b-adcc-aa8cb754c454",
   "metadata": {},
   "outputs": [
    {
     "name": "stdout",
     "output_type": "stream",
     "text": [
      "No notes    1000\n",
      "Name: Note, dtype: int64\n"
     ]
    }
   ],
   "source": [
    "# Avec un value_count, on remarque que la colonne 'Note' n'est pas populée. Il est donc préférable de retirer cette colonne. Retirer cette colonne.\n",
    "print(df_final['Note'].value_counts())\n",
    "df_final.drop('Note', axis='columns', inplace = True )\n"
   ]
  },
  {
   "cell_type": "markdown",
   "id": "8061ec00-9f3b-4d58-8338-6d429301dba4",
   "metadata": {},
   "source": [
    "### Filtrer le dataset\n",
    "\n",
    "Dans certains cas, nous voulons analyser seulement une partie des données. Il est donc nécessaire de filtrer le *dataset*. \n",
    "\n",
    "Nous allons considérer que nous voulons exclure de l'analyse les paquets de l'application 1 ayant 'Packet length' inférieure à 300."
   ]
  },
  {
   "cell_type": "code",
   "execution_count": 29,
   "id": "7bc6555e",
   "metadata": {},
   "outputs": [
    {
     "data": {
      "text/html": [
       "<div>\n",
       "<style scoped>\n",
       "    .dataframe tbody tr th:only-of-type {\n",
       "        vertical-align: middle;\n",
       "    }\n",
       "\n",
       "    .dataframe tbody tr th {\n",
       "        vertical-align: top;\n",
       "    }\n",
       "\n",
       "    .dataframe thead th {\n",
       "        text-align: right;\n",
       "    }\n",
       "</style>\n",
       "<table border=\"1\" class=\"dataframe\">\n",
       "  <thead>\n",
       "    <tr style=\"text-align: right;\">\n",
       "      <th></th>\n",
       "      <th>Application</th>\n",
       "      <th>Packet length</th>\n",
       "      <th>Response</th>\n",
       "    </tr>\n",
       "    <tr>\n",
       "      <th>ID</th>\n",
       "      <th></th>\n",
       "      <th></th>\n",
       "      <th></th>\n",
       "    </tr>\n",
       "  </thead>\n",
       "  <tbody>\n",
       "    <tr>\n",
       "      <th>0</th>\n",
       "      <td>APP2</td>\n",
       "      <td>674.0</td>\n",
       "      <td>ACK2</td>\n",
       "    </tr>\n",
       "    <tr>\n",
       "      <th>1</th>\n",
       "      <td>APP2</td>\n",
       "      <td>176.0</td>\n",
       "      <td>ACK2</td>\n",
       "    </tr>\n",
       "    <tr>\n",
       "      <th>2</th>\n",
       "      <td>APP2</td>\n",
       "      <td>673.0</td>\n",
       "      <td>ACK1</td>\n",
       "    </tr>\n",
       "    <tr>\n",
       "      <th>3</th>\n",
       "      <td>APP1</td>\n",
       "      <td>720.0</td>\n",
       "      <td>ACK1</td>\n",
       "    </tr>\n",
       "    <tr>\n",
       "      <th>3</th>\n",
       "      <td>APP1</td>\n",
       "      <td>720.0</td>\n",
       "      <td>ACK1</td>\n",
       "    </tr>\n",
       "    <tr>\n",
       "      <th>...</th>\n",
       "      <td>...</td>\n",
       "      <td>...</td>\n",
       "      <td>...</td>\n",
       "    </tr>\n",
       "    <tr>\n",
       "      <th>995</th>\n",
       "      <td>APP1</td>\n",
       "      <td>674.0</td>\n",
       "      <td>ACK2</td>\n",
       "    </tr>\n",
       "    <tr>\n",
       "      <th>996</th>\n",
       "      <td>APP2</td>\n",
       "      <td>693.0</td>\n",
       "      <td>ACK2</td>\n",
       "    </tr>\n",
       "    <tr>\n",
       "      <th>997</th>\n",
       "      <td>APP1</td>\n",
       "      <td>353.0</td>\n",
       "      <td>ACK1</td>\n",
       "    </tr>\n",
       "    <tr>\n",
       "      <th>998</th>\n",
       "      <td>APP2</td>\n",
       "      <td>328.0</td>\n",
       "      <td>ACK1</td>\n",
       "    </tr>\n",
       "    <tr>\n",
       "      <th>999</th>\n",
       "      <td>APP1</td>\n",
       "      <td>370.0</td>\n",
       "      <td>ACK2</td>\n",
       "    </tr>\n",
       "  </tbody>\n",
       "</table>\n",
       "<p>881 rows × 3 columns</p>\n",
       "</div>"
      ],
      "text/plain": [
       "    Application  Packet length Response\n",
       "ID                                     \n",
       "0          APP2          674.0     ACK2\n",
       "1          APP2          176.0     ACK2\n",
       "2          APP2          673.0     ACK1\n",
       "3          APP1          720.0     ACK1\n",
       "3          APP1          720.0     ACK1\n",
       "..          ...            ...      ...\n",
       "995        APP1          674.0     ACK2\n",
       "996        APP2          693.0     ACK2\n",
       "997        APP1          353.0     ACK1\n",
       "998        APP2          328.0     ACK1\n",
       "999        APP1          370.0     ACK2\n",
       "\n",
       "[881 rows x 3 columns]"
      ]
     },
     "execution_count": 29,
     "metadata": {},
     "output_type": "execute_result"
    }
   ],
   "source": [
    "serie_conditionnelle_temp = (df_final['Packet length'] >= 300 ) | ( df_final['Application']!='APP1')\n",
    "\n",
    "new_df = df_final[serie_conditionnelle_temp]\n",
    "\n",
    "new_df"
   ]
  },
  {
   "cell_type": "code",
   "execution_count": 30,
   "id": "85670c8c-e627-4779-be0d-0a16d0d5fe94",
   "metadata": {},
   "outputs": [],
   "source": [
    "#Filtrer le dataset pour exclure les paquets mentionnées à la cellule précédente\n",
    "serie_conditionnelle_temp =  df_final['Packet length'] < 300 \n",
    "new_df = df_final[serie_conditionnelle_temp]\n",
    "serie_conditionnelle = new_df['Application']=='APP2'\n"
   ]
  },
  {
   "cell_type": "code",
   "execution_count": 31,
   "id": "8fa4ca77",
   "metadata": {},
   "outputs": [],
   "source": [
    "serie_conditionnelle_temp = (df_final['Packet length'] < 300 ) & ( df_final['Application']=='APP1')\n"
   ]
  },
  {
   "cell_type": "markdown",
   "id": "9bb7e84a",
   "metadata": {},
   "source": [
    "### Question 3\n",
    "\n",
    "Selon vous, quel sera l'impact sur l'apprentissage machine de seulement sélectionner un sous-ensemble des données?\n",
    "\n",
    "apprentissage plus performant sur le set défini, cependant la classification fonctionnera très mal sur le set sur lequel elle ne s'est pas entrainée. Il faut faire attention à ne pas overfitter."
   ]
  }
 ],
 "metadata": {
  "kernelspec": {
   "display_name": "Python 3.9.12 ('base')",
   "language": "python",
   "name": "python3"
  },
  "language_info": {
   "codemirror_mode": {
    "name": "ipython",
    "version": 3
   },
   "file_extension": ".py",
   "mimetype": "text/x-python",
   "name": "python",
   "nbconvert_exporter": "python",
   "pygments_lexer": "ipython3",
   "version": "3.9.12"
  },
  "vscode": {
   "interpreter": {
    "hash": "174c9b7f671336d0b03fb6a4f6fd2215b1a4f0beaa17119d68f2e3366192539c"
   }
  }
 },
 "nbformat": 4,
 "nbformat_minor": 5
}
