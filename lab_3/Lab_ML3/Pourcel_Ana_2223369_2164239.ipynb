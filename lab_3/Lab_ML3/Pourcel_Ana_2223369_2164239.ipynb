{
 "cells": [
  {
   "cell_type": "markdown",
   "id": "2e08e4d4-d06f-469d-a016-6798dd4c94fb",
   "metadata": {},
   "source": [
    "# Laboratoire d'apprentissage machine 3: Outils d'apprentissages\n",
    "\n",
    "Ce laboratoire vise à vous initier aux méthodes d'apprentissage machine. Ce laboratoire sera séparé en trois sections.\n",
    "\n",
    "La première section est la section théorique. Bien que nous n'allons pas entrer dans les détails des méthodes d'apprentissage, une base théorique permettant de comprendre le contexte d'utilisation des algorithmes d'apprentissage machine vous sera montré en trois sous-sections qui cherchent à répondre aux questions suivantes:\n",
    "1. Qu'est-ce qu'est l'apprentissage machine et pourquoi on l'utilise?\n",
    "2. Quels sont les outils utilisés pour effectuer l'apprentissage machine?\n",
    "3. Comment évalué la qualité des résultats obtenus par apprentissage machine?\n",
    "\n",
    "La seconde section est la section d'exemple pratique. Cette section présente un exemple détaillé d'apprentissage pour un problème de régression et un problème de classification.\n",
    "\n",
    "La dernière section est la section d'évaluation, où des manipulations seront exigées et où vous aurez à répondre à des questions. Les points associé à chaque manipulation ou question est indiqué dans l'énoncé, pour un total de 20 points."
   ]
  },
  {
   "cell_type": "markdown",
   "id": "f0642c21-058d-4b48-9ce2-b959a413dc54",
   "metadata": {},
   "source": [
    "## Théorie"
   ]
  },
  {
   "cell_type": "markdown",
   "id": "c8046a9f-50fd-4294-a66c-e7c4587d4782",
   "metadata": {},
   "source": [
    "### Définition et utilisation\n",
    "\n",
    "L'apprentissage machine est une discipline faisant partie de la famille de l'intelligence artificielle. Elle a pour but de développer un modèle de prédiction en fournissant un grand volume de données à une machine. Il existe une multitude d'algorithmes arrivant à ces fins. Il existe deux catégories principales d'apprentissage:\n",
    "1. Apprentissage supervisé: L'algorithme utilise une base de données contenant la réponse à ses prédictions lors de son apprentissage (la phase d'apprentissage est appelée entraînement). Il compare les résultats obtenus par ses prédictions avec les données de la base de données et s'ajuste en conséquence.\n",
    "2. Apprentissage non supervisé: L'algorithme cherche des liens et des tendances entre les différents échantillons de la base de données lors de l'entraînement. Il définit alors des catégories permettant de regrouper les entrées similaires.\n",
    "\n",
    "Lors de ce laboratoire, nous allons nous concentrer sur l'apprentissage supervisé. Il est à noter que les deux catégories sont complémentaires et ne peuvent pas être utilisées pour les mêmes problèmes. L'apprentissage supervisé est utilisé lorsque l'on **sait** ce qu'on veut prédire. L'apprentissage non supervisé est utilisé pour regrouper des entrées et extraire des profils qu'on ne connait pas à priori."
   ]
  },
  {
   "cell_type": "markdown",
   "id": "ec9cba4e-a2b6-43a7-8e73-60a01ed7b441",
   "metadata": {},
   "source": [
    "Maintenant que nous avons clarifié ce qu'est l'apprentissage supervisé, nous allons voir comment il s'utilise. Tout d'abord, il faut comprendre qu'il y a deux phases à l'algorithme:\n",
    "1. L'entraînement: Dans cette phase, on fournit à l'algorithme beaucoup de données avec la réponse aux prédictions. L'algorithme **apprend** de la base de données.\n",
    "2. La production: En production, l'algorithme n'apprend plus. On lui fournit des données, et il ressort des prédictions.\n",
    "\n",
    "Lorsque l'on définit un problème d'apprentissage, il faut déterminer quelles informations sont disponibles à priori, puis ce qu'on veut déterminer. Par la suite, il faut construire une base de données ayant de l'information permettant d'avoir la réponse aux prédictions. \n",
    "Pour simplifier les choses, prenons l'exemple de l'ensemble de données `iris` vu lors de la dernière séance. Dans ce cas, on veut déterminer quelle est l'espèce d'iris, en fonction des dimensions des pétales et des sépales. Pour construire la base de données, des experts ont surement été déployés afin d'établir l'espèce en utilisant leur expérience et/ou de l'information difficile à mesurer (ex: fragrance). Une fois la base de données construite, c'est le moment de l'apprentissage. Habituellement, plusieurs méthodes sont évaluées et comparées afin de déterminer celle qui a les meilleures performances. Une fois l'entraînement terminé, on peut maintenant utiliser l'algorithme en production. Il va suffire de fournir les dimensions des pétales et sépales afin d'identifier l'espèce d'iris.\n",
    "\n",
    "La figure suivante illustre le processus d'apprentissage dans le cas supervisé.\n",
    "\n",
    "![Apprentissage supervisé](ML_entrainement.png)\n",
    "\n"
   ]
  },
  {
   "cell_type": "markdown",
   "id": "afec8fdb-4085-4f23-997c-10c6be694dc9",
   "metadata": {},
   "source": [
    "### Outils\n",
    "\n",
    "Plusieurs outils sont disponibles avec python afin d'entraîner et d'exécuter les algorithmes d'apprentissage machine. Le plus connu, grâce à son aisance d'utilisation, sa large gamme d'algorithmes et son excellente documentation est scikit-learn. C'est cette librairie que nous allons utiliser lors de ce laboratoire. En tout temps, vous pouvez consulter la [documentation](https://scikit-learn.org/stable/) pour plus de détails. \n",
    "\n",
    "La première action à effectuer, avec un jeu de données nettoyé et analysé, est de séparer aléatoirement le jeu de données en 2 ou 3 différents ensembles soit:\n",
    "1. L'ensemble d'entraînement: Partie du jeu de données utilisé pour l'apprentissage en tant que tel. Habituellement entre 60% et 80% du total. \n",
    "2. L'ensemble de test: Partie du jeu de données utilisé afin de déterminer les performances des différents algorithmes d'apprentissage et les comparer. Habituellement entre 15% et 30 %\n",
    "3. L'ensemble de validation: Permet de valider la solution retenue. Il est facultatif, mais surtout utile lorsque l'on ajuste beaucoup les hyperparamètres. Habituellement entre 10% et 20%.\n",
    "\n",
    "Mais si les données sont si précieuses, pourquoi on ne les utilisent pas toutes pour faire l'entraînement? C'est parce qu'il existe un phénomène appelé surapprentissage ou \"overfitting\". Cela se produit lorsque l'algorithme est tellement familier avec le jeu de donnée utilisé lors de l'entraînement qu'il modélise, non seulement les tendances réelles, mais aussi les anomalies du jeu de données. Cela se traduit par des excellantes pérdictions sur les données d'entraînement, mais de piètres performances sur les autres jeux de données. C'est pourquoi les données de tests sont utilisées pour déterminer les performances; on utilise des données que l'algorithme n'a pas utilisées pour apprendre.\n",
    "\n",
    "Mais pourquoi les données de validation alors? Pour optimiser les performances, des tests automatiques optimisant les paramètres des algorithmes choisis (aussi appelé hyperparamètres) peuvent être utilisés. Dans ce cas il est possible que ces paramètres soient optimums spécifiquement pour les données de tests, puisqu'ils ont été utilisés pour l'optimisation. Les données tests permettent donc d'avoir des résultats de performance plus réaliste. Bref, si l'on utilise des données afin d'ajuster l'algorithme, la performance sur ces données sera biaisée. **Dans le cadre de ce laboratoire, nous n'allons pas utiliser les données de validation**"
   ]
  },
  {
   "cell_type": "markdown",
   "id": "289363fc-f698-468e-8162-2c01bc1f3b8b",
   "metadata": {},
   "source": [
    "Pour en revenir à scikit-learn, la librairie possède une fonction permettant de faire la spéparation des données. Elle est utilisée comme suit:\n",
    "\n",
    "```\n",
    "from sklearn.model_selection import train_test_split\n",
    "\n",
    "X_train, X_test, y_train, y_test = train_test_split(X, y, test_size = 0.3, random_state = 1)\n",
    "```\n",
    "Il est à noter que l'on sépare les données d'entré (X) de la variable que l'on veut prédire. Il est aussi important de fixer le \"random_state\" afin d'avoir des résultats reproductibles.\n",
    "\n",
    "La seconde étape est de choisir un algorithme. Pour trouver un algorithme, vous pouvez consulter [cette page](https://scikit-learn.org/stable/supervised_learning.html#supervised-learning). Il suffit alors de déclarer l'objet de scikit-learn qui lui correspond.\n",
    "\n",
    "```\n",
    "clf = classifier_class(args)\n",
    "```\n",
    "Où `classifier_class` est la classe de l'algorithme choisi et args sont les arguments pour l'initalisation de l'objet.\n",
    "\n",
    "Pour faire l'entraînement, les méthodes sont standadisées. Il suffit de faire:\n",
    "\n",
    "```\n",
    "clf.fit(X_train, y_train)\n",
    "```\n",
    "\n",
    "C'est aussi simple que ça! Pour utiliser le modèle, il suffit de faire:\n",
    "\n",
    "```\n",
    "clf.predict(an_input)\n",
    "```\n"
   ]
  },
  {
   "cell_type": "markdown",
   "id": "f40cbbff-1322-4a76-89e2-a5a8757d6896",
   "metadata": {},
   "source": [
    "### Évaluation du modèle\n",
    "\n",
    "Une fois le modèle entraîné, il est nécessaire d'évaluer ses performances. \n"
   ]
  },
  {
   "cell_type": "markdown",
   "id": "2e737976-5d67-4fcc-8590-ec3527861507",
   "metadata": {},
   "source": [
    "#### Régression\n",
    "\n",
    "Une métrique très simple, mais très utilisée pour la régression est l'erreur quadratique moyenne. Comme son nom l'indique, elle est obtenue en effectuant la moyenne du carré de toutes les erreurs de prédictions. Il existe plusieurs autres métriques pour la régression, mais allons nous limiter à cette métrique dans le cadre du laboratoire. Cette métrique peut directement être retrouvée avec une méthode de scikit-learn:\n",
    "\n",
    "```\n",
    "from sklearn.metrics import mean_squared_error\n",
    "\n",
    "mean_squared_error(y_true, y_pred)\n",
    "```"
   ]
  },
  {
   "cell_type": "markdown",
   "id": "9c272955-b74a-439b-bbe8-6b505741ecaf",
   "metadata": {},
   "source": [
    "#### Classification\n",
    "\n",
    "Une visualisation fondemmentale utilisée dans le cadre des problèmes de classification, en particulier les problèmes de classification binaires, est la matrice de confusion.\n",
    "Cette matrice met en relation la valeur des prédictions avec la valeur réelle des échantillons. Lorsque la prédiction est la même valeur que la valeur réelle, on dit que la prédiction est \"vrai\" dans le cas contraire, elle est \"fausse\". On dit aussi qu'un échantillon est \"positif\" si la classe prédite correspond à celle évalué. Dans le cas contraire, l'échantillon est considéré \"négatif\". Donc, pour une matrice de corrélation binaire, on a la nomentlature suivante:"
   ]
  },
  {
   "cell_type": "code",
   "execution_count": 19,
   "id": "ae95b123-07ae-4b9d-9cd2-9a75897bc0a4",
   "metadata": {},
   "outputs": [
    {
     "data": {
      "text/plain": [
       "matrix([['Vrai négatif', 'Faux positif'],\n",
       "        ['Faux négatif', 'Vrai positif']], dtype='<U12')"
      ]
     },
     "execution_count": 19,
     "metadata": {},
     "output_type": "execute_result"
    }
   ],
   "source": [
    "import numpy as np\n",
    "np.matrix([['Vrai négatif', 'Faux positif'], ['Faux négatif', 'Vrai positif']])"
   ]
  },
  {
   "cell_type": "markdown",
   "id": "6e2a7921-ddc3-47d2-bafb-dc7d09e9f591",
   "metadata": {},
   "source": [
    "Cette nomenclature aide à définir d'autres critères de performances très importants en classification soit:\n",
    "1. Précision: Ratio des vrais positifs sur l'ensemble des prédictions positives. À favoriser lorsque l'on veut que ce qu'on a prédit comme positif est vrai, même si certains échantillons vrais sont mal classifiés. Ex: Si on veut déterminer les bons restaurants à visiter dans un quartier. Dans ce cas, on préfère que tous les restaurants sélectionnés soient bons. Ce n'est pas problématiques si certains bons restaurents sont mals identifiés.\n",
    "2. Rappel: Ratio des vrais positifs sur l'ensemble des échantillons vrais. À favoriser lorsque l'on veut prédire comme positif tous les échantillons vrais, même si des échantillons faux sont considérés positifs. Ex: Détection de masses cancéreuses. Dans ce cas, on préfère largement avoir des faux positifs que de passer à côté de résultats positifs. \n",
    "3. F-score: Métrique hybride entre la précision et le rappel ([voir ici pour le calcul](https://en.wikipedia.org/wiki/F-score)). Habituellement, la métrique F1 est utilisée, mais une forme générique F_beta peut être utilisée en augmentant (favorise le rappel) ou diminuant (favorise la précision) un paramètre beta.\n",
    "\n",
    "Il est possible de générer ces métriques grâces à la fonction `classification_report`, et les matrices de confusions avec `confusion_matrix` et `ConfusionMatrixDisplay`.\n",
    "\n",
    "Ces métriques sont difficiles à interpréter, car leur interprétation dépend grandement du contexte. Afin de fournir une référence de performance, les `DummyClassifier` de *scikit_learn* peuvent être utilisés. Ces objets utilisent une règle très simple, telle que tout prédire comme positif. Ils possèdent les mêmes méthodes que d'autres algorithmes de classification, ils peuvent donc être entraînés avec les mêmes données et produire des rapports de performances."
   ]
  },
  {
   "cell_type": "markdown",
   "id": "ce95a70e-636e-481d-8525-5648304c76dd",
   "metadata": {},
   "source": [
    "## Exemples"
   ]
  },
  {
   "cell_type": "code",
   "execution_count": 20,
   "id": "5ed1aff6-4216-4267-96f3-39228dcd64f7",
   "metadata": {},
   "outputs": [],
   "source": [
    "import numpy as np\n",
    "import pandas as pd \n",
    "\n",
    "import seaborn as sns\n",
    "import matplotlib\n",
    "import matplotlib.pyplot as plt\n",
    "\n",
    "import sklearn.datasets as datasets\n",
    "from sklearn.dummy import DummyClassifier\n",
    "from sklearn.model_selection import train_test_split\n",
    "from sklearn.linear_model import LinearRegression\n",
    "from sklearn.metrics import classification_report, mean_squared_error, confusion_matrix, ConfusionMatrixDisplay\n",
    "from sklearn.neighbors import KNeighborsClassifier"
   ]
  },
  {
   "cell_type": "markdown",
   "id": "e9f819c6-23c7-4333-a381-f8a3977ce13d",
   "metadata": {},
   "source": [
    "### Régression\n",
    "\n",
    "Pour la régression, nous allons utiliser le dataset boston vu au dernier laboratoire. Nous allons essayer de prédire la vairable MEDV, qui représente la valeur medianne des propriétés en milliers de dollards. "
   ]
  },
  {
   "cell_type": "code",
   "execution_count": 21,
   "id": "9574467c-0361-406c-9997-9ed9718c7829",
   "metadata": {},
   "outputs": [
    {
     "name": "stderr",
     "output_type": "stream",
     "text": [
      "c:\\Users\\loulo\\programme\\conda\\lib\\site-packages\\sklearn\\utils\\deprecation.py:87: FutureWarning: Function load_boston is deprecated; `load_boston` is deprecated in 1.0 and will be removed in 1.2.\n",
      "\n",
      "    The Boston housing prices dataset has an ethical problem. You can refer to\n",
      "    the documentation of this function for further details.\n",
      "\n",
      "    The scikit-learn maintainers therefore strongly discourage the use of this\n",
      "    dataset unless the purpose of the code is to study and educate about\n",
      "    ethical issues in data science and machine learning.\n",
      "\n",
      "    In this special case, you can fetch the dataset from the original\n",
      "    source::\n",
      "\n",
      "        import pandas as pd\n",
      "        import numpy as np\n",
      "\n",
      "\n",
      "        data_url = \"http://lib.stat.cmu.edu/datasets/boston\"\n",
      "        raw_df = pd.read_csv(data_url, sep=\"\\s+\", skiprows=22, header=None)\n",
      "        data = np.hstack([raw_df.values[::2, :], raw_df.values[1::2, :2]])\n",
      "        target = raw_df.values[1::2, 2]\n",
      "\n",
      "    Alternative datasets include the California housing dataset (i.e.\n",
      "    :func:`~sklearn.datasets.fetch_california_housing`) and the Ames housing\n",
      "    dataset. You can load the datasets as follows::\n",
      "\n",
      "        from sklearn.datasets import fetch_california_housing\n",
      "        housing = fetch_california_housing()\n",
      "\n",
      "    for the California housing dataset and::\n",
      "\n",
      "        from sklearn.datasets import fetch_openml\n",
      "        housing = fetch_openml(name=\"house_prices\", as_frame=True)\n",
      "\n",
      "    for the Ames housing dataset.\n",
      "    \n",
      "  warnings.warn(msg, category=FutureWarning)\n"
     ]
    },
    {
     "data": {
      "text/html": [
       "<div>\n",
       "<style scoped>\n",
       "    .dataframe tbody tr th:only-of-type {\n",
       "        vertical-align: middle;\n",
       "    }\n",
       "\n",
       "    .dataframe tbody tr th {\n",
       "        vertical-align: top;\n",
       "    }\n",
       "\n",
       "    .dataframe thead th {\n",
       "        text-align: right;\n",
       "    }\n",
       "</style>\n",
       "<table border=\"1\" class=\"dataframe\">\n",
       "  <thead>\n",
       "    <tr style=\"text-align: right;\">\n",
       "      <th></th>\n",
       "      <th>CRIM</th>\n",
       "      <th>ZN</th>\n",
       "      <th>INDUS</th>\n",
       "      <th>CHAS</th>\n",
       "      <th>NOX</th>\n",
       "      <th>RM</th>\n",
       "      <th>AGE</th>\n",
       "      <th>DIS</th>\n",
       "      <th>RAD</th>\n",
       "      <th>TAX</th>\n",
       "      <th>PTRATIO</th>\n",
       "      <th>B</th>\n",
       "      <th>LSTAT</th>\n",
       "      <th>MEDV</th>\n",
       "    </tr>\n",
       "  </thead>\n",
       "  <tbody>\n",
       "    <tr>\n",
       "      <th>0</th>\n",
       "      <td>0.00632</td>\n",
       "      <td>18.0</td>\n",
       "      <td>2.31</td>\n",
       "      <td>0</td>\n",
       "      <td>0.538</td>\n",
       "      <td>6.575</td>\n",
       "      <td>65</td>\n",
       "      <td>4.0900</td>\n",
       "      <td>1</td>\n",
       "      <td>296.0</td>\n",
       "      <td>15.3</td>\n",
       "      <td>396.90</td>\n",
       "      <td>4.98</td>\n",
       "      <td>24.0</td>\n",
       "    </tr>\n",
       "    <tr>\n",
       "      <th>1</th>\n",
       "      <td>0.02731</td>\n",
       "      <td>0.0</td>\n",
       "      <td>7.07</td>\n",
       "      <td>0</td>\n",
       "      <td>0.469</td>\n",
       "      <td>6.421</td>\n",
       "      <td>79</td>\n",
       "      <td>4.9671</td>\n",
       "      <td>2</td>\n",
       "      <td>242.0</td>\n",
       "      <td>17.8</td>\n",
       "      <td>396.90</td>\n",
       "      <td>9.14</td>\n",
       "      <td>21.6</td>\n",
       "    </tr>\n",
       "    <tr>\n",
       "      <th>2</th>\n",
       "      <td>0.02729</td>\n",
       "      <td>0.0</td>\n",
       "      <td>7.07</td>\n",
       "      <td>0</td>\n",
       "      <td>0.469</td>\n",
       "      <td>7.185</td>\n",
       "      <td>61</td>\n",
       "      <td>4.9671</td>\n",
       "      <td>2</td>\n",
       "      <td>242.0</td>\n",
       "      <td>17.8</td>\n",
       "      <td>392.83</td>\n",
       "      <td>4.03</td>\n",
       "      <td>34.7</td>\n",
       "    </tr>\n",
       "    <tr>\n",
       "      <th>3</th>\n",
       "      <td>0.03237</td>\n",
       "      <td>0.0</td>\n",
       "      <td>2.18</td>\n",
       "      <td>0</td>\n",
       "      <td>0.458</td>\n",
       "      <td>6.998</td>\n",
       "      <td>46</td>\n",
       "      <td>6.0622</td>\n",
       "      <td>3</td>\n",
       "      <td>222.0</td>\n",
       "      <td>18.7</td>\n",
       "      <td>394.63</td>\n",
       "      <td>2.94</td>\n",
       "      <td>33.4</td>\n",
       "    </tr>\n",
       "    <tr>\n",
       "      <th>4</th>\n",
       "      <td>0.06905</td>\n",
       "      <td>0.0</td>\n",
       "      <td>2.18</td>\n",
       "      <td>0</td>\n",
       "      <td>0.458</td>\n",
       "      <td>7.147</td>\n",
       "      <td>54</td>\n",
       "      <td>6.0622</td>\n",
       "      <td>3</td>\n",
       "      <td>222.0</td>\n",
       "      <td>18.7</td>\n",
       "      <td>396.90</td>\n",
       "      <td>5.33</td>\n",
       "      <td>36.2</td>\n",
       "    </tr>\n",
       "  </tbody>\n",
       "</table>\n",
       "</div>"
      ],
      "text/plain": [
       "      CRIM    ZN  INDUS  CHAS    NOX     RM  AGE     DIS  RAD    TAX  PTRATIO  \\\n",
       "0  0.00632  18.0   2.31     0  0.538  6.575   65  4.0900    1  296.0     15.3   \n",
       "1  0.02731   0.0   7.07     0  0.469  6.421   79  4.9671    2  242.0     17.8   \n",
       "2  0.02729   0.0   7.07     0  0.469  7.185   61  4.9671    2  242.0     17.8   \n",
       "3  0.03237   0.0   2.18     0  0.458  6.998   46  6.0622    3  222.0     18.7   \n",
       "4  0.06905   0.0   2.18     0  0.458  7.147   54  6.0622    3  222.0     18.7   \n",
       "\n",
       "        B  LSTAT  MEDV  \n",
       "0  396.90   4.98  24.0  \n",
       "1  396.90   9.14  21.6  \n",
       "2  392.83   4.03  34.7  \n",
       "3  394.63   2.94  33.4  \n",
       "4  396.90   5.33  36.2  "
      ]
     },
     "execution_count": 21,
     "metadata": {},
     "output_type": "execute_result"
    }
   ],
   "source": [
    "# Import de boston\n",
    "boston_raw = datasets.load_boston()\n",
    "\n",
    "data = np.c_[boston_raw['data'], boston_raw['target']]\n",
    "column_name = list(boston_raw['feature_names']) + ['MEDV']\n",
    "boston = pd.DataFrame(data, columns=column_name)\n",
    "\n",
    "boston['CHAS'] = boston['CHAS'].apply(int)\n",
    "boston['AGE'] = boston['AGE'].apply(round)\n",
    "boston['RAD'] = boston['RAD'].apply(int)\n",
    "\n",
    "boston.head()"
   ]
  },
  {
   "cell_type": "markdown",
   "id": "349d13ab-209f-4104-bace-97a57588c14a",
   "metadata": {},
   "source": [
    "Nous allons utiliser une des méthodes de régression les plus simples, soit la régression linéaire. Cette méthode trouve la fonction linéaire modélisant le problème qui minimise le carré des erreurs."
   ]
  },
  {
   "cell_type": "code",
   "execution_count": 22,
   "id": "5210928e-20a7-47d3-abb5-41b19ae53bbc",
   "metadata": {},
   "outputs": [
    {
     "name": "stdout",
     "output_type": "stream",
     "text": [
      "Pour le premier échantillon, on prédit:33.69969463482671\n",
      "Pour le premier échantillon a la valeur mesurée de :33.8\n",
      "Erreur quadratique moyenne des prédiction: 19.832108686597035\n",
      "Erreur quadratique par rapport à la valeur moyenne: 91.65448710180056\n"
     ]
    },
    {
     "name": "stderr",
     "output_type": "stream",
     "text": [
      "c:\\Users\\loulo\\programme\\conda\\lib\\site-packages\\sklearn\\utils\\validation.py:1688: FutureWarning: Feature names only support names that are all strings. Got feature names with dtypes: ['str_']. An error will be raised in 1.2.\n",
      "  warnings.warn(\n",
      "c:\\Users\\loulo\\programme\\conda\\lib\\site-packages\\sklearn\\utils\\validation.py:1688: FutureWarning: Feature names only support names that are all strings. Got feature names with dtypes: ['str_']. An error will be raised in 1.2.\n",
      "  warnings.warn(\n",
      "c:\\Users\\loulo\\programme\\conda\\lib\\site-packages\\sklearn\\utils\\validation.py:1688: FutureWarning: Feature names only support names that are all strings. Got feature names with dtypes: ['str_']. An error will be raised in 1.2.\n",
      "  warnings.warn(\n"
     ]
    }
   ],
   "source": [
    "# On fait la séparation des données\n",
    "X_train, X_test, y_train, y_test = train_test_split(boston.drop('MEDV', axis='columns'), boston['MEDV'], test_size = 0.3, random_state = 1)\n",
    "# On définit notre méthode de régression\n",
    "reg = LinearRegression()\n",
    "\n",
    "# On entraîne le modèle avec les données d'entraînement\n",
    "reg_train = reg.fit(X_train, y_train)\n",
    "\n",
    "# On génère un exemple\n",
    "print('Pour le premier échantillon, on prédit:{}'.format(reg_train.predict(X_test)[150]))\n",
    "print('Pour le premier échantillon a la valeur mesurée de :{}'.format(y_test.iloc[150]))\n",
    "\n",
    "#On génère l'erreur quadratique moyenne avec les données de test\n",
    "print('Erreur quadratique moyenne des prédiction: {}'.format(mean_squared_error(y_test, reg_train.predict(X_test))))\n",
    "\n",
    "# On compare avec un dummy_regressor\n",
    "print('Erreur quadratique par rapport à la valeur moyenne: {}'.format(mean_squared_error(y_test, np.full(y_test.shape, y_test.mean()))))"
   ]
  },
  {
   "cell_type": "markdown",
   "id": "931f982f-2d29-46f5-9c39-7dbe821f93d7",
   "metadata": {},
   "source": [
    "### Classification\n",
    "\n",
    "Pour la classification, nous allons utiliser le dataset iris vu au dernier lab pour déterminer l'espèce, soit la colonne \"target\"."
   ]
  },
  {
   "cell_type": "code",
   "execution_count": 23,
   "id": "6ce5ab69-6ef8-4a70-9f8d-18fd5006fe95",
   "metadata": {},
   "outputs": [
    {
     "data": {
      "text/html": [
       "<div>\n",
       "<style scoped>\n",
       "    .dataframe tbody tr th:only-of-type {\n",
       "        vertical-align: middle;\n",
       "    }\n",
       "\n",
       "    .dataframe tbody tr th {\n",
       "        vertical-align: top;\n",
       "    }\n",
       "\n",
       "    .dataframe thead th {\n",
       "        text-align: right;\n",
       "    }\n",
       "</style>\n",
       "<table border=\"1\" class=\"dataframe\">\n",
       "  <thead>\n",
       "    <tr style=\"text-align: right;\">\n",
       "      <th></th>\n",
       "      <th>sepal length (cm)</th>\n",
       "      <th>sepal width (cm)</th>\n",
       "      <th>petal length (cm)</th>\n",
       "      <th>petal width (cm)</th>\n",
       "      <th>target</th>\n",
       "    </tr>\n",
       "  </thead>\n",
       "  <tbody>\n",
       "    <tr>\n",
       "      <th>0</th>\n",
       "      <td>5.1</td>\n",
       "      <td>3.5</td>\n",
       "      <td>1.4</td>\n",
       "      <td>0.2</td>\n",
       "      <td>0</td>\n",
       "    </tr>\n",
       "    <tr>\n",
       "      <th>1</th>\n",
       "      <td>4.9</td>\n",
       "      <td>3.0</td>\n",
       "      <td>1.4</td>\n",
       "      <td>0.2</td>\n",
       "      <td>0</td>\n",
       "    </tr>\n",
       "    <tr>\n",
       "      <th>2</th>\n",
       "      <td>4.7</td>\n",
       "      <td>3.2</td>\n",
       "      <td>1.3</td>\n",
       "      <td>0.2</td>\n",
       "      <td>0</td>\n",
       "    </tr>\n",
       "    <tr>\n",
       "      <th>3</th>\n",
       "      <td>4.6</td>\n",
       "      <td>3.1</td>\n",
       "      <td>1.5</td>\n",
       "      <td>0.2</td>\n",
       "      <td>0</td>\n",
       "    </tr>\n",
       "    <tr>\n",
       "      <th>4</th>\n",
       "      <td>5.0</td>\n",
       "      <td>3.6</td>\n",
       "      <td>1.4</td>\n",
       "      <td>0.2</td>\n",
       "      <td>0</td>\n",
       "    </tr>\n",
       "  </tbody>\n",
       "</table>\n",
       "</div>"
      ],
      "text/plain": [
       "   sepal length (cm)  sepal width (cm)  petal length (cm)  petal width (cm)  \\\n",
       "0                5.1               3.5                1.4               0.2   \n",
       "1                4.9               3.0                1.4               0.2   \n",
       "2                4.7               3.2                1.3               0.2   \n",
       "3                4.6               3.1                1.5               0.2   \n",
       "4                5.0               3.6                1.4               0.2   \n",
       "\n",
       "   target  \n",
       "0       0  \n",
       "1       0  \n",
       "2       0  \n",
       "3       0  \n",
       "4       0  "
      ]
     },
     "execution_count": 23,
     "metadata": {},
     "output_type": "execute_result"
    }
   ],
   "source": [
    "# Import de iris\n",
    "iris_raw = datasets.load_iris()\n",
    "\n",
    "data = np.c_[iris_raw['data'], iris_raw['target']]\n",
    "column_name = iris_raw['feature_names'] + ['target']\n",
    "iris = pd.DataFrame(data, columns=column_name)\n",
    "\n",
    "iris['target'] = iris['target'].apply(int)\n",
    "\n",
    "iris.head()"
   ]
  },
  {
   "cell_type": "markdown",
   "id": "d543eb83-0b77-4599-82f3-251bbfdc8ba5",
   "metadata": {},
   "source": [
    "*Explication sommaire de KNN*"
   ]
  },
  {
   "cell_type": "code",
   "execution_count": 24,
   "id": "8f73941f-e382-4dc3-b58a-b750b01ce787",
   "metadata": {},
   "outputs": [
    {
     "name": "stdout",
     "output_type": "stream",
     "text": [
      "              precision    recall  f1-score   support\n",
      "\n",
      "           0       1.00      1.00      1.00        14\n",
      "           1       0.95      1.00      0.97        18\n",
      "           2       1.00      0.92      0.96        13\n",
      "\n",
      "    accuracy                           0.98        45\n",
      "   macro avg       0.98      0.97      0.98        45\n",
      "weighted avg       0.98      0.98      0.98        45\n",
      "\n"
     ]
    },
    {
     "data": {
      "text/plain": [
       "<sklearn.metrics._plot.confusion_matrix.ConfusionMatrixDisplay at 0x14b1b9da0d0>"
      ]
     },
     "execution_count": 24,
     "metadata": {},
     "output_type": "execute_result"
    },
    {
     "data": {
      "image/png": "[encoded data removed]",
      "text/plain": [
       "<Figure size 432x288 with 2 Axes>"
      ]
     },
     "metadata": {
      "needs_background": "light"
     },
     "output_type": "display_data"
    }
   ],
   "source": [
    "# On fait la séparation des données\n",
    "X_train, X_test, y_train, y_test = train_test_split(iris.drop('target', axis='columns'), iris['target'], test_size = 0.3, random_state = 1)\n",
    "\n",
    "# On définit notre méthode de régression\n",
    "clf = KNeighborsClassifier()\n",
    "\n",
    "# On entraîne le modèle avec les données d'entraînement\n",
    "clf_train = clf.fit(X_train, y_train)\n",
    "\n",
    "# Rapport de classification\n",
    "predictions = clf_train.predict(X_test)\n",
    "print(classification_report(y_test, predictions))\n",
    "\n",
    "cm = confusion_matrix(y_test, predictions)\n",
    "disp = ConfusionMatrixDisplay(confusion_matrix=cm)\n",
    "disp.plot()"
   ]
  },
  {
   "cell_type": "code",
   "execution_count": 25,
   "id": "1615539f-3555-4044-805a-59fae8268879",
   "metadata": {},
   "outputs": [
    {
     "name": "stdout",
     "output_type": "stream",
     "text": [
      "              precision    recall  f1-score   support\n",
      "\n",
      "           0       0.33      0.36      0.34        14\n",
      "           1       0.67      0.67      0.67        18\n",
      "           2       0.33      0.31      0.32        13\n",
      "\n",
      "    accuracy                           0.47        45\n",
      "   macro avg       0.44      0.44      0.44        45\n",
      "weighted avg       0.47      0.47      0.47        45\n",
      "\n"
     ]
    },
    {
     "data": {
      "text/plain": [
       "<sklearn.metrics._plot.confusion_matrix.ConfusionMatrixDisplay at 0x14b1b6ebd60>"
      ]
     },
     "execution_count": 25,
     "metadata": {},
     "output_type": "execute_result"
    },
    {
     "data": {
      "image/png": "[encoded data removed]",
      "text/plain": [
       "<Figure size 432x288 with 2 Axes>"
      ]
     },
     "metadata": {
      "needs_background": "light"
     },
     "output_type": "display_data"
    }
   ],
   "source": [
    "# On compare avec un dummy classifier\n",
    "dummy_clf = DummyClassifier(strategy=\"stratified\")\n",
    "dummy_clf_train = dummy_clf.fit(X_train, y_train)\n",
    "\n",
    "# Rapport de classification\n",
    "predictions = dummy_clf_train.predict(X_test)\n",
    "print(classification_report(y_test, predictions))\n",
    "\n",
    "cm = confusion_matrix(y_test, predictions)\n",
    "disp = ConfusionMatrixDisplay(confusion_matrix=cm)\n",
    "disp.plot()"
   ]
  },
  {
   "cell_type": "markdown",
   "id": "933e1967-a5c4-4f56-9f0c-9c59ab7fe822",
   "metadata": {},
   "source": [
    "## Questions et manipulations"
   ]
  },
  {
   "cell_type": "markdown",
   "id": "5550a7cd-9231-4443-a38e-19e6458fe4ac",
   "metadata": {},
   "source": [
    "### Question 1 (2 points)\n",
    "Dans l'exemple de régression, on observe une erreur quadratique moyenne significative lors de l'utilisation d'un algorithme de régression linéaire. Quel sont les raisons explicant l'écart de prédiction? Identifier 1 élément provenant du dataset et 1 élément provenant de l'algorithme utilisé.\n",
    "\n",
    "algorithme : utiliser un modèle linéaire n'est pas forcément la meilleure modélisation. Par ailleurs les points aberrants vont grandement augmenter l'erreur. \n",
    "dataset : on obtient une erreur quadratique moyenne de 19, soit à peut près 4.5 ce qui est relativement faible devant des valeurs qui vont de 5 à 50."
   ]
  },
  {
   "cell_type": "code",
   "execution_count": 26,
   "id": "3eee8566",
   "metadata": {},
   "outputs": [
    {
     "data": {
      "text/plain": [
       "50.0"
      ]
     },
     "execution_count": 26,
     "metadata": {},
     "output_type": "execute_result"
    }
   ],
   "source": [
    "min(boston['MEDV'])\n",
    "max(boston['MEDV'])"
   ]
  },
  {
   "cell_type": "markdown",
   "id": "b7b4c4dc-5885-4b43-b055-3b7b13aa805d",
   "metadata": {},
   "source": [
    "### Question 2 (2 points)\n",
    "Quelles informations pouvez-vous extraire du `classification_report` de l'exemple de classification utilisant l'algorithme KNN? Expliciter le sens des valeurs de la précision et du rappel dans le contexte de cet apprentissage (faites comme si expliquiez cela à quelqu'un qui n'est pas familier avec les termes techniques). Vous pouvez ignorer la colonne `f1-score` et les trois dernières lignes. S'il n'y a aucune erreur de prédiction, changez la valeur du `random_state` jusqu'à obtenir une erreur.\n",
    "\n",
    "Ici la précision correspond au nombre de bonne classification sur le nombre total d'échantillon. Une bonne classification correspond à un élément qui appartient à une classe ou l'algorithme le classifie dans cette classe. dans la matrice de confusion on observe 44 bonnes prédictions sur 45, on a donc une précision de 44/45, arrondie à 98%. \n",
    "Le recall correspond au nombre de fois ou la classe a été correctement identifiée, par exemple pour la classe 2 sur 13 échantillons ont été identifiées comme appartenent à la classe 2 et un échantillon a été identifié comme appartenant à la classe 1, donc il y a eu 12/13 bonnes classifications, 92%."
   ]
  },
  {
   "cell_type": "markdown",
   "id": "84483ec7-74f1-40ac-92a7-3d408192c427",
   "metadata": {},
   "source": [
    "### Manipulation 1 (3 points)\n",
    "Effectuer un `pair_plot` du dataset de test de iris, mais en colorant les échantillons où il y a une erreur de prédiction avec une couleur différente (créer une nouvelle classe pour les erreurs)."
   ]
  },
  {
   "cell_type": "code",
   "execution_count": 27,
   "id": "fa027a7e",
   "metadata": {},
   "outputs": [
    {
     "data": {
      "text/plain": [
       "<seaborn.axisgrid.PairGrid at 0x14b1b0b6cd0>"
      ]
     },
     "execution_count": 27,
     "metadata": {},
     "output_type": "execute_result"
    },
    {
     "data": {
      "image/png": "[encoded data removed]",
      "text/plain": [
       "<Figure size 762.375x720 with 20 Axes>"
      ]
     },
     "metadata": {
      "needs_background": "light"
     },
     "output_type": "display_data"
    }
   ],
   "source": [
    "X_final = pd.DataFrame(columns= ['sepal length (cm)', 'sepal width (cm)', 'petal length (cm)',\n",
    "       'petal width (cm)', 'class'], index=[ 14,  98,  75,  16, 131,  56, 141,  44,  29, 120,  94,   5, 102,\n",
    "             51,  78,  42,  92,  66,  31,  35,  90,  84,  77,  40, 125,  99,\n",
    "             33,  19,  73, 146,  91, 135,  69, 128, 114,  48,  53,  28,  54,\n",
    "            108, 112,  17, 119, 103,  58])\n",
    "X_final.iloc[:,0:4]= X_test\n",
    "for k in range (len(y_test)): \n",
    "\n",
    "    if (y_test.iloc[k] - predictions[k]) == 0 : \n",
    "        X_final.iloc[k,4]=0\n",
    "    if (y_test.iloc[k] - predictions[k]) != 0 :     \n",
    "        X_final.iloc[k,4]=1\n",
    "\n",
    "sns.pairplot(X_final, hue=\"class\", palette = 'deep')"
   ]
  },
  {
   "cell_type": "markdown",
   "id": "b3da354d-ee50-4f86-9c21-4809e3996dd9",
   "metadata": {},
   "source": [
    "### Manipulation 2 (2 points)\n",
    "Utiliser un algorithme d'arbre de décision pour déterminer la variable RAD du jeu de données `boston`. Générer le rapport de classification et la matrice de confusion pour les données de tests, ainsi que pour les données d'entraînement."
   ]
  },
  {
   "cell_type": "code",
   "execution_count": 28,
   "id": "9e933d53-5312-4b88-97e5-a73e837574bf",
   "metadata": {},
   "outputs": [],
   "source": [
    "# Faire les manipulations ici\n"
   ]
  },
  {
   "cell_type": "code",
   "execution_count": 29,
   "id": "65c51867",
   "metadata": {},
   "outputs": [
    {
     "name": "stderr",
     "output_type": "stream",
     "text": [
      "c:\\Users\\loulo\\programme\\conda\\lib\\site-packages\\sklearn\\utils\\validation.py:1688: FutureWarning: Feature names only support names that are all strings. Got feature names with dtypes: ['str', 'str_']. An error will be raised in 1.2.\n",
      "  warnings.warn(\n",
      "c:\\Users\\loulo\\programme\\conda\\lib\\site-packages\\sklearn\\utils\\validation.py:1688: FutureWarning: Feature names only support names that are all strings. Got feature names with dtypes: ['str', 'str_']. An error will be raised in 1.2.\n",
      "  warnings.warn(\n"
     ]
    },
    {
     "name": "stdout",
     "output_type": "stream",
     "text": [
      "              precision    recall  f1-score   support\n",
      "\n",
      "           1       0.80      0.67      0.73         6\n",
      "           2       0.57      1.00      0.73         4\n",
      "           3       0.80      1.00      0.89        12\n",
      "           4       0.91      0.81      0.85        36\n",
      "           5       1.00      0.95      0.97        37\n",
      "           6       0.75      0.75      0.75         8\n",
      "           7       1.00      1.00      1.00         5\n",
      "           8       0.88      1.00      0.93         7\n",
      "          24       1.00      1.00      1.00        37\n",
      "\n",
      "    accuracy                           0.91       152\n",
      "   macro avg       0.86      0.91      0.87       152\n",
      "weighted avg       0.92      0.91      0.92       152\n",
      "\n",
      "12\n"
     ]
    },
    {
     "data": {
      "image/png": "[encoded data removed]",
      "text/plain": [
       "<Figure size 432x288 with 2 Axes>"
      ]
     },
     "metadata": {
      "needs_background": "light"
     },
     "output_type": "display_data"
    }
   ],
   "source": [
    "from sklearn.tree import DecisionTreeClassifier\n",
    "\n",
    "# On fait la séparation des données\n",
    "X_train, X_test, y_train, y_test = train_test_split(boston.drop('RAD', axis='columns'), boston['RAD'], test_size = 0.3, random_state = 1)\n",
    "\n",
    "# On définit notre méthode de régression\n",
    "clf = DecisionTreeClassifier()\n",
    "\n",
    "# On entraîne le modèle avec les données d'entraînement\n",
    "clf_train = clf.fit(X_train, y_train)\n",
    "\n",
    "# Rapport de classification\n",
    "predictions = clf_train.predict(X_test)\n",
    "print(classification_report(y_test, predictions))\n",
    "\n",
    "cm = confusion_matrix(y_test, predictions)\n",
    "disp = ConfusionMatrixDisplay(confusion_matrix=cm)\n",
    "disp.plot()\n",
    "print(clf.tree_.max_depth)"
   ]
  },
  {
   "cell_type": "markdown",
   "id": "48b53348-6e80-4f73-b688-c408b051f41a",
   "metadata": {},
   "source": [
    "### Question 3 (2 points)\n",
    "En regardant seulement les données d'entraînement, nous semblons avoir une entraînement parfait. Qu'est-ce qui explique que les performances soient moins bonnes dans les données de test? Pourquoi seuls les performances des données de test sont généralement utilisées?\n",
    "\n",
    "L'algorithme s'entraine sur les données d'entrainement, c'est à dire qu'Il les apprend pour potentiellement classifier d'autres données après. Si on redonne ces mêmes données à l'algorithme il va les reconnaitre et donc les classifier parfaitement. Les performances sont moins bonnes sur des données de test car il y a une variabilité, donc elle ne vont pas parfaitement correspondre à celles sur lesquelles l'algo s'est entrainé. On utilise les résultats des données de test seulement parce que à l'avenir on veut savoir comment l'algorithme fonctionnera sur des nouvelles données qu'il ne connait pas."
   ]
  },
  {
   "cell_type": "markdown",
   "id": "fbe09432-a22a-4b74-986b-0b2a809b6180",
   "metadata": {},
   "source": [
    "### Manipulation 3 (2 points)\n",
    "Refaire l'entraînement de la manipulation 4, mais en limitant la prfondeur maximale de l'arbre de décision pour qu'il ait 1, 2 et 3 étage de moins que lors de la dernière manipulation. \n",
    "\n",
    "Note: `clf.tree_.max_depth` permet de trouver la profondeur d'un arbre entraîné"
   ]
  },
  {
   "cell_type": "markdown",
   "id": "548253eb-e12e-4a77-a9b8-54671907d38f",
   "metadata": {},
   "source": [
    "Valeur pour la dernière manipulation = 12"
   ]
  },
  {
   "cell_type": "code",
   "execution_count": 30,
   "id": "ff42c367",
   "metadata": {},
   "outputs": [
    {
     "name": "stdout",
     "output_type": "stream",
     "text": [
      "              precision    recall  f1-score   support\n",
      "\n",
      "           1       0.80      0.67      0.73         6\n",
      "           2       0.50      1.00      0.67         4\n",
      "           3       0.86      1.00      0.92        12\n",
      "           4       0.91      0.81      0.85        36\n",
      "           5       0.97      0.92      0.94        37\n",
      "           6       0.62      0.62      0.62         8\n",
      "           7       1.00      1.00      1.00         5\n",
      "           8       0.88      1.00      0.93         7\n",
      "          24       1.00      1.00      1.00        37\n",
      "\n",
      "    accuracy                           0.90       152\n",
      "   macro avg       0.84      0.89      0.85       152\n",
      "weighted avg       0.91      0.90      0.90       152\n",
      "\n"
     ]
    },
    {
     "name": "stderr",
     "output_type": "stream",
     "text": [
      "c:\\Users\\loulo\\programme\\conda\\lib\\site-packages\\sklearn\\utils\\validation.py:1688: FutureWarning: Feature names only support names that are all strings. Got feature names with dtypes: ['str', 'str_']. An error will be raised in 1.2.\n",
      "  warnings.warn(\n",
      "c:\\Users\\loulo\\programme\\conda\\lib\\site-packages\\sklearn\\utils\\validation.py:1688: FutureWarning: Feature names only support names that are all strings. Got feature names with dtypes: ['str', 'str_']. An error will be raised in 1.2.\n",
      "  warnings.warn(\n"
     ]
    },
    {
     "data": {
      "text/plain": [
       "11"
      ]
     },
     "execution_count": 30,
     "metadata": {},
     "output_type": "execute_result"
    },
    {
     "data": {
      "image/png": "[encoded data removed]",
      "text/plain": [
       "<Figure size 432x288 with 2 Axes>"
      ]
     },
     "metadata": {
      "needs_background": "light"
     },
     "output_type": "display_data"
    }
   ],
   "source": [
    "clf = DecisionTreeClassifier(max_depth=11)\n",
    "\n",
    "# On entraîne le modèle avec les données d'entraînement\n",
    "clf_train = clf.fit(X_train, y_train)\n",
    "\n",
    "# Rapport de classification\n",
    "predictions = clf_train.predict(X_test)\n",
    "print(classification_report(y_test, predictions))\n",
    "\n",
    "cm = confusion_matrix(y_test, predictions)\n",
    "disp = ConfusionMatrixDisplay(confusion_matrix=cm)\n",
    "disp.plot()\n",
    "\n",
    "clf.tree_.max_depth"
   ]
  },
  {
   "cell_type": "code",
   "execution_count": 31,
   "id": "dfc95d7c",
   "metadata": {},
   "outputs": [
    {
     "name": "stdout",
     "output_type": "stream",
     "text": [
      "              precision    recall  f1-score   support\n",
      "\n",
      "           1       0.67      0.33      0.44         6\n",
      "           2       0.50      1.00      0.67         4\n",
      "           3       0.80      1.00      0.89        12\n",
      "           4       0.93      0.78      0.85        36\n",
      "           5       1.00      0.95      0.97        37\n",
      "           6       0.78      0.88      0.82         8\n",
      "           7       0.71      1.00      0.83         5\n",
      "           8       0.88      1.00      0.93         7\n",
      "          24       1.00      1.00      1.00        37\n",
      "\n",
      "    accuracy                           0.90       152\n",
      "   macro avg       0.81      0.88      0.82       152\n",
      "weighted avg       0.92      0.90      0.90       152\n",
      "\n"
     ]
    },
    {
     "name": "stderr",
     "output_type": "stream",
     "text": [
      "c:\\Users\\loulo\\programme\\conda\\lib\\site-packages\\sklearn\\utils\\validation.py:1688: FutureWarning: Feature names only support names that are all strings. Got feature names with dtypes: ['str', 'str_']. An error will be raised in 1.2.\n",
      "  warnings.warn(\n",
      "c:\\Users\\loulo\\programme\\conda\\lib\\site-packages\\sklearn\\utils\\validation.py:1688: FutureWarning: Feature names only support names that are all strings. Got feature names with dtypes: ['str', 'str_']. An error will be raised in 1.2.\n",
      "  warnings.warn(\n"
     ]
    },
    {
     "data": {
      "text/plain": [
       "10"
      ]
     },
     "execution_count": 31,
     "metadata": {},
     "output_type": "execute_result"
    },
    {
     "data": {
      "image/png": "[encoded data removed]",
      "text/plain": [
       "<Figure size 432x288 with 2 Axes>"
      ]
     },
     "metadata": {
      "needs_background": "light"
     },
     "output_type": "display_data"
    }
   ],
   "source": [
    "clf = DecisionTreeClassifier(max_depth=10)\n",
    "\n",
    "# On entraîne le modèle avec les données d'entraînement\n",
    "clf_train = clf.fit(X_train, y_train)\n",
    "\n",
    "# Rapport de classification\n",
    "predictions = clf_train.predict(X_test)\n",
    "print(classification_report(y_test, predictions))\n",
    "\n",
    "cm = confusion_matrix(y_test, predictions)\n",
    "disp = ConfusionMatrixDisplay(confusion_matrix=cm)\n",
    "disp.plot()\n",
    "\n",
    "clf.tree_.max_depth"
   ]
  },
  {
   "cell_type": "code",
   "execution_count": 32,
   "id": "0272eeab",
   "metadata": {},
   "outputs": [
    {
     "name": "stdout",
     "output_type": "stream",
     "text": [
      "              precision    recall  f1-score   support\n",
      "\n",
      "           1       0.33      0.17      0.22         6\n",
      "           2       0.67      1.00      0.80         4\n",
      "           3       0.67      1.00      0.80        12\n",
      "           4       0.94      0.81      0.87        36\n",
      "           5       0.97      0.95      0.96        37\n",
      "           6       0.75      0.75      0.75         8\n",
      "           7       1.00      1.00      1.00         5\n",
      "           8       0.88      1.00      0.93         7\n",
      "          24       1.00      1.00      1.00        37\n",
      "\n",
      "    accuracy                           0.89       152\n",
      "   macro avg       0.80      0.85      0.81       152\n",
      "weighted avg       0.90      0.89      0.89       152\n",
      "\n"
     ]
    },
    {
     "name": "stderr",
     "output_type": "stream",
     "text": [
      "c:\\Users\\loulo\\programme\\conda\\lib\\site-packages\\sklearn\\utils\\validation.py:1688: FutureWarning: Feature names only support names that are all strings. Got feature names with dtypes: ['str', 'str_']. An error will be raised in 1.2.\n",
      "  warnings.warn(\n",
      "c:\\Users\\loulo\\programme\\conda\\lib\\site-packages\\sklearn\\utils\\validation.py:1688: FutureWarning: Feature names only support names that are all strings. Got feature names with dtypes: ['str', 'str_']. An error will be raised in 1.2.\n",
      "  warnings.warn(\n"
     ]
    },
    {
     "data": {
      "text/plain": [
       "9"
      ]
     },
     "execution_count": 32,
     "metadata": {},
     "output_type": "execute_result"
    },
    {
     "data": {
      "image/png": "[encoded data removed]",
      "text/plain": [
       "<Figure size 432x288 with 2 Axes>"
      ]
     },
     "metadata": {
      "needs_background": "light"
     },
     "output_type": "display_data"
    }
   ],
   "source": [
    "clf = DecisionTreeClassifier(max_depth=9)\n",
    "\n",
    "# On entraîne le modèle avec les données d'entraînement\n",
    "clf_train = clf.fit(X_train, y_train)\n",
    "\n",
    "# Rapport de classification\n",
    "predictions = clf_train.predict(X_test)\n",
    "print(classification_report(y_test, predictions))\n",
    "\n",
    "cm = confusion_matrix(y_test, predictions)\n",
    "disp = ConfusionMatrixDisplay(confusion_matrix=cm)\n",
    "disp.plot()\n",
    "\n",
    "clf.tree_.max_depth"
   ]
  },
  {
   "cell_type": "markdown",
   "id": "8836b390-9470-463e-8fc6-36bdbf5442ac",
   "metadata": {},
   "source": [
    "### Question 4 (1 point)\n",
    "Un des éléments affectant le surapprentissage est la flexibilité de l'algorithme utilisé. Dans le cas des arbres de décision, plus il y a d'étages, plus l'algorithme est flexible. \n",
    "\n",
    "Comparer les résultats obtenus des manipulation 3 et 4. Y a-t-il surapprentissage à la manipulation 3? Pourquoi?\n",
    "\n",
    "On peut supposer qu'on est à la limite du surapprentissage puisque la précision est similaire entre les manipulation 3 et 4. "
   ]
  },
  {
   "cell_type": "markdown",
   "id": "fb86d062-6e52-4261-b177-2c625ec76877",
   "metadata": {},
   "source": [
    "### Manipulation 4 (4 points)\n",
    "Il est commun d'ajuster un modèle selon divers paramètres. C'est pourquoi la méthode `GridSearchCV` est implémentée dans scikit-learn. En plus de tester différents paramètres, elle utilise une technique appelée [validation croisée](https://fr.wikipedia.org/wiki/Validation_crois%C3%A9e) lors de l'évaluation afin de diminuer l'impact du surentraînement. \n",
    "\n",
    "Utiliser cette méthode afin de déterminer la profondeur optimale de l'arbre de décision utilisé aux manipulations 3 et 4 et relever les performances de la solution obtenue avec les paramètres fournis par `GridSearchCV`. Référez-vous à la documentation pour l'utilisation de cette méthode. N'oubliez pas de fixer le paramètre `random_state`!"
   ]
  },
  {
   "cell_type": "code",
   "execution_count": 33,
   "id": "04586158-52ec-469d-a955-689212db9e0e",
   "metadata": {},
   "outputs": [],
   "source": [
    "# Faire les manipulations ici"
   ]
  },
  {
   "cell_type": "code",
   "execution_count": 43,
   "id": "6f552fa8",
   "metadata": {},
   "outputs": [
    {
     "name": "stdout",
     "output_type": "stream",
     "text": [
      "{'max_depth': 12}\n",
      "              precision    recall  f1-score   support\n",
      "\n",
      "           1       0.80      0.67      0.73         6\n",
      "           2       0.50      1.00      0.67         4\n",
      "           3       0.75      1.00      0.86        12\n",
      "           4       0.91      0.81      0.85        36\n",
      "           5       0.92      0.92      0.92        37\n",
      "           6       0.75      0.38      0.50         8\n",
      "           7       1.00      1.00      1.00         5\n",
      "           8       0.88      1.00      0.93         7\n",
      "          24       1.00      1.00      1.00        37\n",
      "\n",
      "    accuracy                           0.89       152\n",
      "   macro avg       0.83      0.86      0.83       152\n",
      "weighted avg       0.90      0.89      0.89       152\n",
      "\n"
     ]
    },
    {
     "name": "stderr",
     "output_type": "stream",
     "text": [
      "c:\\Users\\loulo\\programme\\conda\\lib\\site-packages\\sklearn\\utils\\validation.py:1688: FutureWarning: Feature names only support names that are all strings. Got feature names with dtypes: ['str', 'str_']. An error will be raised in 1.2.\n",
      "  warnings.warn(\n",
      "c:\\Users\\loulo\\programme\\conda\\lib\\site-packages\\sklearn\\utils\\validation.py:1688: FutureWarning: Feature names only support names that are all strings. Got feature names with dtypes: ['str', 'str_']. An error will be raised in 1.2.\n",
      "  warnings.warn(\n",
      "c:\\Users\\loulo\\programme\\conda\\lib\\site-packages\\sklearn\\utils\\validation.py:1688: FutureWarning: Feature names only support names that are all strings. Got feature names with dtypes: ['str', 'str_']. An error will be raised in 1.2.\n",
      "  warnings.warn(\n",
      "c:\\Users\\loulo\\programme\\conda\\lib\\site-packages\\sklearn\\utils\\validation.py:1688: FutureWarning: Feature names only support names that are all strings. Got feature names with dtypes: ['str', 'str_']. An error will be raised in 1.2.\n",
      "  warnings.warn(\n",
      "c:\\Users\\loulo\\programme\\conda\\lib\\site-packages\\sklearn\\utils\\validation.py:1688: FutureWarning: Feature names only support names that are all strings. Got feature names with dtypes: ['str', 'str_']. An error will be raised in 1.2.\n",
      "  warnings.warn(\n",
      "c:\\Users\\loulo\\programme\\conda\\lib\\site-packages\\sklearn\\utils\\validation.py:1688: FutureWarning: Feature names only support names that are all strings. Got feature names with dtypes: ['str', 'str_']. An error will be raised in 1.2.\n",
      "  warnings.warn(\n",
      "c:\\Users\\loulo\\programme\\conda\\lib\\site-packages\\sklearn\\utils\\validation.py:1688: FutureWarning: Feature names only support names that are all strings. Got feature names with dtypes: ['str', 'str_']. An error will be raised in 1.2.\n",
      "  warnings.warn(\n",
      "c:\\Users\\loulo\\programme\\conda\\lib\\site-packages\\sklearn\\utils\\validation.py:1688: FutureWarning: Feature names only support names that are all strings. Got feature names with dtypes: ['str', 'str_']. An error will be raised in 1.2.\n",
      "  warnings.warn(\n",
      "c:\\Users\\loulo\\programme\\conda\\lib\\site-packages\\sklearn\\utils\\validation.py:1688: FutureWarning: Feature names only support names that are all strings. Got feature names with dtypes: ['str', 'str_']. An error will be raised in 1.2.\n",
      "  warnings.warn(\n",
      "c:\\Users\\loulo\\programme\\conda\\lib\\site-packages\\sklearn\\utils\\validation.py:1688: FutureWarning: Feature names only support names that are all strings. Got feature names with dtypes: ['str', 'str_']. An error will be raised in 1.2.\n",
      "  warnings.warn(\n",
      "c:\\Users\\loulo\\programme\\conda\\lib\\site-packages\\sklearn\\utils\\validation.py:1688: FutureWarning: Feature names only support names that are all strings. Got feature names with dtypes: ['str', 'str_']. An error will be raised in 1.2.\n",
      "  warnings.warn(\n",
      "c:\\Users\\loulo\\programme\\conda\\lib\\site-packages\\sklearn\\utils\\validation.py:1688: FutureWarning: Feature names only support names that are all strings. Got feature names with dtypes: ['str', 'str_']. An error will be raised in 1.2.\n",
      "  warnings.warn(\n",
      "c:\\Users\\loulo\\programme\\conda\\lib\\site-packages\\sklearn\\utils\\validation.py:1688: FutureWarning: Feature names only support names that are all strings. Got feature names with dtypes: ['str', 'str_']. An error will be raised in 1.2.\n",
      "  warnings.warn(\n",
      "c:\\Users\\loulo\\programme\\conda\\lib\\site-packages\\sklearn\\utils\\validation.py:1688: FutureWarning: Feature names only support names that are all strings. Got feature names with dtypes: ['str', 'str_']. An error will be raised in 1.2.\n",
      "  warnings.warn(\n",
      "c:\\Users\\loulo\\programme\\conda\\lib\\site-packages\\sklearn\\utils\\validation.py:1688: FutureWarning: Feature names only support names that are all strings. Got feature names with dtypes: ['str', 'str_']. An error will be raised in 1.2.\n",
      "  warnings.warn(\n",
      "c:\\Users\\loulo\\programme\\conda\\lib\\site-packages\\sklearn\\utils\\validation.py:1688: FutureWarning: Feature names only support names that are all strings. Got feature names with dtypes: ['str', 'str_']. An error will be raised in 1.2.\n",
      "  warnings.warn(\n",
      "c:\\Users\\loulo\\programme\\conda\\lib\\site-packages\\sklearn\\utils\\validation.py:1688: FutureWarning: Feature names only support names that are all strings. Got feature names with dtypes: ['str', 'str_']. An error will be raised in 1.2.\n",
      "  warnings.warn(\n",
      "c:\\Users\\loulo\\programme\\conda\\lib\\site-packages\\sklearn\\utils\\validation.py:1688: FutureWarning: Feature names only support names that are all strings. Got feature names with dtypes: ['str', 'str_']. An error will be raised in 1.2.\n",
      "  warnings.warn(\n",
      "c:\\Users\\loulo\\programme\\conda\\lib\\site-packages\\sklearn\\utils\\validation.py:1688: FutureWarning: Feature names only support names that are all strings. Got feature names with dtypes: ['str', 'str_']. An error will be raised in 1.2.\n",
      "  warnings.warn(\n",
      "c:\\Users\\loulo\\programme\\conda\\lib\\site-packages\\sklearn\\utils\\validation.py:1688: FutureWarning: Feature names only support names that are all strings. Got feature names with dtypes: ['str', 'str_']. An error will be raised in 1.2.\n",
      "  warnings.warn(\n",
      "c:\\Users\\loulo\\programme\\conda\\lib\\site-packages\\sklearn\\utils\\validation.py:1688: FutureWarning: Feature names only support names that are all strings. Got feature names with dtypes: ['str', 'str_']. An error will be raised in 1.2.\n",
      "  warnings.warn(\n",
      "c:\\Users\\loulo\\programme\\conda\\lib\\site-packages\\sklearn\\utils\\validation.py:1688: FutureWarning: Feature names only support names that are all strings. Got feature names with dtypes: ['str', 'str_']. An error will be raised in 1.2.\n",
      "  warnings.warn(\n",
      "c:\\Users\\loulo\\programme\\conda\\lib\\site-packages\\sklearn\\utils\\validation.py:1688: FutureWarning: Feature names only support names that are all strings. Got feature names with dtypes: ['str', 'str_']. An error will be raised in 1.2.\n",
      "  warnings.warn(\n",
      "c:\\Users\\loulo\\programme\\conda\\lib\\site-packages\\sklearn\\utils\\validation.py:1688: FutureWarning: Feature names only support names that are all strings. Got feature names with dtypes: ['str', 'str_']. An error will be raised in 1.2.\n",
      "  warnings.warn(\n",
      "c:\\Users\\loulo\\programme\\conda\\lib\\site-packages\\sklearn\\utils\\validation.py:1688: FutureWarning: Feature names only support names that are all strings. Got feature names with dtypes: ['str', 'str_']. An error will be raised in 1.2.\n",
      "  warnings.warn(\n",
      "c:\\Users\\loulo\\programme\\conda\\lib\\site-packages\\sklearn\\utils\\validation.py:1688: FutureWarning: Feature names only support names that are all strings. Got feature names with dtypes: ['str', 'str_']. An error will be raised in 1.2.\n",
      "  warnings.warn(\n",
      "c:\\Users\\loulo\\programme\\conda\\lib\\site-packages\\sklearn\\utils\\validation.py:1688: FutureWarning: Feature names only support names that are all strings. Got feature names with dtypes: ['str', 'str_']. An error will be raised in 1.2.\n",
      "  warnings.warn(\n",
      "c:\\Users\\loulo\\programme\\conda\\lib\\site-packages\\sklearn\\utils\\validation.py:1688: FutureWarning: Feature names only support names that are all strings. Got feature names with dtypes: ['str', 'str_']. An error will be raised in 1.2.\n",
      "  warnings.warn(\n",
      "c:\\Users\\loulo\\programme\\conda\\lib\\site-packages\\sklearn\\utils\\validation.py:1688: FutureWarning: Feature names only support names that are all strings. Got feature names with dtypes: ['str', 'str_']. An error will be raised in 1.2.\n",
      "  warnings.warn(\n",
      "c:\\Users\\loulo\\programme\\conda\\lib\\site-packages\\sklearn\\utils\\validation.py:1688: FutureWarning: Feature names only support names that are all strings. Got feature names with dtypes: ['str', 'str_']. An error will be raised in 1.2.\n",
      "  warnings.warn(\n",
      "c:\\Users\\loulo\\programme\\conda\\lib\\site-packages\\sklearn\\utils\\validation.py:1688: FutureWarning: Feature names only support names that are all strings. Got feature names with dtypes: ['str', 'str_']. An error will be raised in 1.2.\n",
      "  warnings.warn(\n",
      "c:\\Users\\loulo\\programme\\conda\\lib\\site-packages\\sklearn\\utils\\validation.py:1688: FutureWarning: Feature names only support names that are all strings. Got feature names with dtypes: ['str', 'str_']. An error will be raised in 1.2.\n",
      "  warnings.warn(\n",
      "c:\\Users\\loulo\\programme\\conda\\lib\\site-packages\\sklearn\\utils\\validation.py:1688: FutureWarning: Feature names only support names that are all strings. Got feature names with dtypes: ['str', 'str_']. An error will be raised in 1.2.\n",
      "  warnings.warn(\n",
      "c:\\Users\\loulo\\programme\\conda\\lib\\site-packages\\sklearn\\utils\\validation.py:1688: FutureWarning: Feature names only support names that are all strings. Got feature names with dtypes: ['str', 'str_']. An error will be raised in 1.2.\n",
      "  warnings.warn(\n",
      "c:\\Users\\loulo\\programme\\conda\\lib\\site-packages\\sklearn\\utils\\validation.py:1688: FutureWarning: Feature names only support names that are all strings. Got feature names with dtypes: ['str', 'str_']. An error will be raised in 1.2.\n",
      "  warnings.warn(\n",
      "c:\\Users\\loulo\\programme\\conda\\lib\\site-packages\\sklearn\\utils\\validation.py:1688: FutureWarning: Feature names only support names that are all strings. Got feature names with dtypes: ['str', 'str_']. An error will be raised in 1.2.\n",
      "  warnings.warn(\n",
      "c:\\Users\\loulo\\programme\\conda\\lib\\site-packages\\sklearn\\utils\\validation.py:1688: FutureWarning: Feature names only support names that are all strings. Got feature names with dtypes: ['str', 'str_']. An error will be raised in 1.2.\n",
      "  warnings.warn(\n",
      "c:\\Users\\loulo\\programme\\conda\\lib\\site-packages\\sklearn\\utils\\validation.py:1688: FutureWarning: Feature names only support names that are all strings. Got feature names with dtypes: ['str', 'str_']. An error will be raised in 1.2.\n",
      "  warnings.warn(\n",
      "c:\\Users\\loulo\\programme\\conda\\lib\\site-packages\\sklearn\\utils\\validation.py:1688: FutureWarning: Feature names only support names that are all strings. Got feature names with dtypes: ['str', 'str_']. An error will be raised in 1.2.\n",
      "  warnings.warn(\n",
      "c:\\Users\\loulo\\programme\\conda\\lib\\site-packages\\sklearn\\utils\\validation.py:1688: FutureWarning: Feature names only support names that are all strings. Got feature names with dtypes: ['str', 'str_']. An error will be raised in 1.2.\n",
      "  warnings.warn(\n",
      "c:\\Users\\loulo\\programme\\conda\\lib\\site-packages\\sklearn\\utils\\validation.py:1688: FutureWarning: Feature names only support names that are all strings. Got feature names with dtypes: ['str', 'str_']. An error will be raised in 1.2.\n",
      "  warnings.warn(\n",
      "c:\\Users\\loulo\\programme\\conda\\lib\\site-packages\\sklearn\\utils\\validation.py:1688: FutureWarning: Feature names only support names that are all strings. Got feature names with dtypes: ['str', 'str_']. An error will be raised in 1.2.\n",
      "  warnings.warn(\n",
      "c:\\Users\\loulo\\programme\\conda\\lib\\site-packages\\sklearn\\utils\\validation.py:1688: FutureWarning: Feature names only support names that are all strings. Got feature names with dtypes: ['str', 'str_']. An error will be raised in 1.2.\n",
      "  warnings.warn(\n",
      "c:\\Users\\loulo\\programme\\conda\\lib\\site-packages\\sklearn\\utils\\validation.py:1688: FutureWarning: Feature names only support names that are all strings. Got feature names with dtypes: ['str', 'str_']. An error will be raised in 1.2.\n",
      "  warnings.warn(\n",
      "c:\\Users\\loulo\\programme\\conda\\lib\\site-packages\\sklearn\\utils\\validation.py:1688: FutureWarning: Feature names only support names that are all strings. Got feature names with dtypes: ['str', 'str_']. An error will be raised in 1.2.\n",
      "  warnings.warn(\n",
      "c:\\Users\\loulo\\programme\\conda\\lib\\site-packages\\sklearn\\utils\\validation.py:1688: FutureWarning: Feature names only support names that are all strings. Got feature names with dtypes: ['str', 'str_']. An error will be raised in 1.2.\n",
      "  warnings.warn(\n",
      "c:\\Users\\loulo\\programme\\conda\\lib\\site-packages\\sklearn\\utils\\validation.py:1688: FutureWarning: Feature names only support names that are all strings. Got feature names with dtypes: ['str', 'str_']. An error will be raised in 1.2.\n",
      "  warnings.warn(\n",
      "c:\\Users\\loulo\\programme\\conda\\lib\\site-packages\\sklearn\\utils\\validation.py:1688: FutureWarning: Feature names only support names that are all strings. Got feature names with dtypes: ['str', 'str_']. An error will be raised in 1.2.\n",
      "  warnings.warn(\n",
      "c:\\Users\\loulo\\programme\\conda\\lib\\site-packages\\sklearn\\utils\\validation.py:1688: FutureWarning: Feature names only support names that are all strings. Got feature names with dtypes: ['str', 'str_']. An error will be raised in 1.2.\n",
      "  warnings.warn(\n",
      "c:\\Users\\loulo\\programme\\conda\\lib\\site-packages\\sklearn\\utils\\validation.py:1688: FutureWarning: Feature names only support names that are all strings. Got feature names with dtypes: ['str', 'str_']. An error will be raised in 1.2.\n",
      "  warnings.warn(\n",
      "c:\\Users\\loulo\\programme\\conda\\lib\\site-packages\\sklearn\\utils\\validation.py:1688: FutureWarning: Feature names only support names that are all strings. Got feature names with dtypes: ['str', 'str_']. An error will be raised in 1.2.\n",
      "  warnings.warn(\n",
      "c:\\Users\\loulo\\programme\\conda\\lib\\site-packages\\sklearn\\utils\\validation.py:1688: FutureWarning: Feature names only support names that are all strings. Got feature names with dtypes: ['str', 'str_']. An error will be raised in 1.2.\n",
      "  warnings.warn(\n",
      "c:\\Users\\loulo\\programme\\conda\\lib\\site-packages\\sklearn\\utils\\validation.py:1688: FutureWarning: Feature names only support names that are all strings. Got feature names with dtypes: ['str', 'str_']. An error will be raised in 1.2.\n",
      "  warnings.warn(\n",
      "c:\\Users\\loulo\\programme\\conda\\lib\\site-packages\\sklearn\\utils\\validation.py:1688: FutureWarning: Feature names only support names that are all strings. Got feature names with dtypes: ['str', 'str_']. An error will be raised in 1.2.\n",
      "  warnings.warn(\n",
      "c:\\Users\\loulo\\programme\\conda\\lib\\site-packages\\sklearn\\utils\\validation.py:1688: FutureWarning: Feature names only support names that are all strings. Got feature names with dtypes: ['str', 'str_']. An error will be raised in 1.2.\n",
      "  warnings.warn(\n",
      "c:\\Users\\loulo\\programme\\conda\\lib\\site-packages\\sklearn\\utils\\validation.py:1688: FutureWarning: Feature names only support names that are all strings. Got feature names with dtypes: ['str', 'str_']. An error will be raised in 1.2.\n",
      "  warnings.warn(\n",
      "c:\\Users\\loulo\\programme\\conda\\lib\\site-packages\\sklearn\\utils\\validation.py:1688: FutureWarning: Feature names only support names that are all strings. Got feature names with dtypes: ['str', 'str_']. An error will be raised in 1.2.\n",
      "  warnings.warn(\n",
      "c:\\Users\\loulo\\programme\\conda\\lib\\site-packages\\sklearn\\utils\\validation.py:1688: FutureWarning: Feature names only support names that are all strings. Got feature names with dtypes: ['str', 'str_']. An error will be raised in 1.2.\n",
      "  warnings.warn(\n",
      "c:\\Users\\loulo\\programme\\conda\\lib\\site-packages\\sklearn\\utils\\validation.py:1688: FutureWarning: Feature names only support names that are all strings. Got feature names with dtypes: ['str', 'str_']. An error will be raised in 1.2.\n",
      "  warnings.warn(\n",
      "c:\\Users\\loulo\\programme\\conda\\lib\\site-packages\\sklearn\\utils\\validation.py:1688: FutureWarning: Feature names only support names that are all strings. Got feature names with dtypes: ['str', 'str_']. An error will be raised in 1.2.\n",
      "  warnings.warn(\n",
      "c:\\Users\\loulo\\programme\\conda\\lib\\site-packages\\sklearn\\utils\\validation.py:1688: FutureWarning: Feature names only support names that are all strings. Got feature names with dtypes: ['str', 'str_']. An error will be raised in 1.2.\n",
      "  warnings.warn(\n",
      "c:\\Users\\loulo\\programme\\conda\\lib\\site-packages\\sklearn\\utils\\validation.py:1688: FutureWarning: Feature names only support names that are all strings. Got feature names with dtypes: ['str', 'str_']. An error will be raised in 1.2.\n",
      "  warnings.warn(\n"
     ]
    }
   ],
   "source": [
    "from sklearn.model_selection import GridSearchCV\n",
    "from sklearn.tree import DecisionTreeClassifier\n",
    "\n",
    "parameters = {'max_depth':[9,10,11,12,15,20]}\n",
    "model = DecisionTreeClassifier()\n",
    "exem = GridSearchCV(model, parameters)\n",
    "exem.fit(X_train,y_train)\n",
    "\n",
    " \n",
    "# print best parameter after tuning \n",
    "print(exem.best_params_) \n",
    "grid_predictions = exem.predict(X_test) \n",
    "   \n",
    "# print classification report \n",
    "print(classification_report(y_test, grid_predictions)) \n"
   ]
  },
  {
   "cell_type": "markdown",
   "id": "30625d59-ba00-49e4-b84b-d36e57a0ebec",
   "metadata": {},
   "source": [
    "### Question 5 (2 points)\n",
    "Est-ce les résultats de la manipulation 4 correspondent aux résultats de la manipulation 3? Expliquer les différences s'il y a lieu.\n",
    "\n",
    "{'max_depth': 10}\n",
    "\n",
    "les résultats de la mamipulation 4 sont en accord avec ceux de la manipulation 3. On obtient tour à tour max_depth = 10 ou max_depth = 12, donc om en revient à la conclusion que la précision varie peu entre ses valeurs."
   ]
  }
 ],
 "metadata": {
  "kernelspec": {
   "display_name": "Python 3.9.12 ('base')",
   "language": "python",
   "name": "python3"
  },
  "language_info": {
   "codemirror_mode": {
    "name": "ipython",
    "version": 3
   },
   "file_extension": ".py",
   "mimetype": "text/x-python",
   "name": "python",
   "nbconvert_exporter": "python",
   "pygments_lexer": "ipython3",
   "version": "3.9.12"
  },
  "vscode": {
   "interpreter": {
    "hash": "174c9b7f671336d0b03fb6a4f6fd2215b1a4f0beaa17119d68f2e3366192539c"
   }
  }
 },
 "nbformat": 4,
 "nbformat_minor": 5
}
